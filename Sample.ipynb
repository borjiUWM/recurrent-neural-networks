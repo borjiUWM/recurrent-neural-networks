{
  "nbformat": 4,
  "nbformat_minor": 0,
  "metadata": {
    "colab": {
      "name": "Untitled2.ipynb",
      "version": "0.3.2",
      "provenance": [],
      "include_colab_link": true
    },
    "kernelspec": {
      "name": "python2",
      "display_name": "Python 2"
    }
  },
  "cells": [
    {
      "cell_type": "markdown",
      "metadata": {
        "id": "view-in-github",
        "colab_type": "text"
      },
      "source": [
        "<a href=\"https://colab.research.google.com/github/borjiUWM/recurrent-neural-networks/blob/master/Sample.ipynb\" target=\"_parent\"><img src=\"https://colab.research.google.com/assets/colab-badge.svg\" alt=\"Open In Colab\"/></a>"
      ]
    },
    {
      "metadata": {
        "id": "xaAFl_IkvgjB",
        "colab_type": "code",
        "colab": {}
      },
      "cell_type": "code",
      "source": [
        "import tensorflow as tf\n",
        "import numpy as np\n",
        "x_data = np.random.rand(100).astype(np.float32)"
      ],
      "execution_count": 0,
      "outputs": []
    },
    {
      "metadata": {
        "id": "i7s4higDvog3",
        "colab_type": "code",
        "colab": {}
      },
      "cell_type": "code",
      "source": [
        "y_data = x_data * 3 + 2\n",
        "y_data = np.vectorize(lambda y: y + np.random.normal(loc=0.0, scale=0.1))(y_data)"
      ],
      "execution_count": 0,
      "outputs": []
    },
    {
      "metadata": {
        "id": "1vPME4KUvyGM",
        "colab_type": "code",
        "colab": {}
      },
      "cell_type": "code",
      "source": [
        "a = tf.Variable(1.0)\n",
        "b = tf.Variable(0.2)\n",
        "y = a * x_data + b"
      ],
      "execution_count": 0,
      "outputs": []
    },
    {
      "metadata": {
        "id": "h2yCzXcLvy-d",
        "colab_type": "code",
        "colab": {}
      },
      "cell_type": "code",
      "source": [
        "loss = tf.reduce_mean(tf.square(y - y_data))"
      ],
      "execution_count": 0,
      "outputs": []
    },
    {
      "metadata": {
        "id": "Uqd9LJ1Nv0CE",
        "colab_type": "code",
        "colab": {}
      },
      "cell_type": "code",
      "source": [
        "optimizer = tf.train.GradientDescentOptimizer(0.5)\n",
        "train = optimizer.minimize(loss)"
      ],
      "execution_count": 0,
      "outputs": []
    },
    {
      "metadata": {
        "id": "bJGe0jahv1NT",
        "colab_type": "code",
        "colab": {}
      },
      "cell_type": "code",
      "source": [
        "init = tf.global_variables_initializer()\n",
        "sess = tf.Session()\n",
        "sess.run(init)"
      ],
      "execution_count": 0,
      "outputs": []
    },
    {
      "metadata": {
        "id": "-YA_G3svv2L7",
        "colab_type": "code",
        "outputId": "859834bf-b605-4b14-c278-3e1a730aa51a",
        "colab": {
          "base_uri": "https://localhost:8080/",
          "height": 1377
        }
      },
      "cell_type": "code",
      "source": [
        "train_data = []\n",
        "for step in range(100):\n",
        "    evals = sess.run([train,a,b])[1:]\n",
        "    if step % 5 != 0:\n",
        "        print(step, evals)\n",
        "        train_data.append(evals)"
      ],
      "execution_count": 14,
      "outputs": [
        {
          "output_type": "stream",
          "text": [
            "(1, [2.4386065, 2.3055394])\n",
            "(2, [2.4759233, 2.2806215])\n",
            "(3, [2.5132499, 2.26198])\n",
            "(4, [2.5474474, 2.2433336])\n",
            "(6, [2.6095061, 2.2102075])\n",
            "(7, [2.6374838, 2.1952486])\n",
            "(8, [2.663609, 2.1812723])\n",
            "(9, [2.6880085, 2.1682215])\n",
            "(11, [2.7320755, 2.1446497])\n",
            "(12, [2.7519493, 2.1340191])\n",
            "(13, [2.7705095, 2.1240911])\n",
            "(14, [2.787843, 2.1148193])\n",
            "(16, [2.8191488, 2.0980737])\n",
            "(17, [2.8332675, 2.0905216])\n",
            "(18, [2.846453, 2.0834687])\n",
            "(19, [2.858767, 2.076882])\n",
            "(21, [2.8810072, 2.0649855])\n",
            "(22, [2.8910372, 2.0596201])\n",
            "(23, [2.9004045, 2.0546098])\n",
            "(24, [2.9091525, 2.0499303])\n",
            "(26, [2.9249523, 2.0414789])\n",
            "(27, [2.932078, 2.0376675])\n",
            "(28, [2.9387324, 2.034108])\n",
            "(29, [2.9449472, 2.0307837])\n",
            "(31, [2.9561718, 2.0247796])\n",
            "(32, [2.9612339, 2.0220718])\n",
            "(33, [2.9659615, 2.019543])\n",
            "(34, [2.9703765, 2.0171814])\n",
            "(36, [2.9783504, 2.012916])\n",
            "(37, [2.9819467, 2.0109923])\n",
            "(38, [2.9853053, 2.0091958])\n",
            "(39, [2.988442, 2.007518])\n",
            "(41, [2.9941068, 2.0044878])\n",
            "(42, [2.9966617, 2.0031214])\n",
            "(43, [2.9990475, 2.001845])\n",
            "(44, [3.0012758, 2.000653])\n",
            "(46, [3.0053, 1.9985005])\n",
            "(47, [3.0071151, 1.9975296])\n",
            "(48, [3.00881, 1.9966229])\n",
            "(49, [3.0103931, 1.9957763])\n",
            "(51, [3.013252, 1.994247])\n",
            "(52, [3.0145414, 1.9935572])\n",
            "(53, [3.0157456, 1.9929131])\n",
            "(54, [3.0168703, 1.9923116])\n",
            "(56, [3.0189013, 1.9912251])\n",
            "(57, [3.0198174, 1.9907352])\n",
            "(58, [3.0206728, 1.9902775])\n",
            "(59, [3.0214717, 1.9898502])\n",
            "(61, [3.0229146, 1.9890784])\n",
            "(62, [3.0235653, 1.9887303])\n",
            "(63, [3.024173, 1.9884052])\n",
            "(64, [3.0247407, 1.9881017])\n",
            "(66, [3.0257657, 1.9875534])\n",
            "(67, [3.026228, 1.9873061])\n",
            "(68, [3.0266597, 1.9870751])\n",
            "(69, [3.027063, 1.9868594])\n",
            "(71, [3.027791, 1.98647])\n",
            "(72, [3.0281196, 1.9862943])\n",
            "(73, [3.0284262, 1.9861302])\n",
            "(74, [3.0287125, 1.985977])\n",
            "(76, [3.0292299, 1.9857004])\n",
            "(77, [3.0294633, 1.9855756])\n",
            "(78, [3.0296812, 1.985459])\n",
            "(79, [3.0298846, 1.98535])\n",
            "(81, [3.030252, 1.9851536])\n",
            "(82, [3.0304177, 1.9850649])\n",
            "(83, [3.0305727, 1.9849821])\n",
            "(84, [3.0307171, 1.9849048])\n",
            "(86, [3.0309782, 1.9847652])\n",
            "(87, [3.031096, 1.9847021])\n",
            "(88, [3.031206, 1.9846433])\n",
            "(89, [3.0313087, 1.9845884])\n",
            "(91, [3.0314941, 1.9844892])\n",
            "(92, [3.0315778, 1.9844444])\n",
            "(93, [3.031656, 1.9844027])\n",
            "(94, [3.031729, 1.9843636])\n",
            "(96, [3.0318608, 1.984293])\n",
            "(97, [3.0319202, 1.9842613])\n",
            "(98, [3.0319757, 1.9842316])\n",
            "(99, [3.0320275, 1.9842038])\n"
          ],
          "name": "stdout"
        }
      ]
    },
    {
      "metadata": {
        "id": "kSxbKy3OwPjC",
        "colab_type": "code",
        "outputId": "8a143609-325d-4c74-a0cc-c42977f08c7e",
        "colab": {
          "base_uri": "https://localhost:8080/",
          "height": 1734
        }
      },
      "cell_type": "code",
      "source": [
        "import numpy as np\n",
        "import tensorflow as tf\n",
        "import matplotlib.patches as mpatches\n",
        "import matplotlib.pyplot as plt\n",
        "\n",
        "%matplotlib inline\n",
        "plt.rcParams['figure.figsize'] = (10, 6)\n",
        "\n",
        "converter = plt.colors\n",
        "cr, cg, cb = (1.0, 1.0, 0.0)\n",
        "for f in train_data:\n",
        "    cb += 1.0 / len(train_data)\n",
        "    cg -= 1.0 / len(train_data)\n",
        "    if cb > 1.0: cb = 1.0\n",
        "    if cg < 0.0: cg = 0.0\n",
        "    [a, b] = f\n",
        "    print(f)\n",
        "    f_y = np.vectorize(lambda x: a*x + b)(x_data)\n",
        "    line = plt.plot(x_data, f_y)\n",
        "    plt.setp(line, color=(cr,cg,cb))\n",
        "\n",
        "plt.plot(x_data, y_data, 'ro')\n",
        "\n",
        "\n",
        "green_line = mpatches.Patch(color='red', label='Data Points')\n",
        "\n",
        "plt.legend(handles=[green_line])\n",
        "\n",
        "plt.show()"
      ],
      "execution_count": 15,
      "outputs": [
        {
          "output_type": "stream",
          "text": [
            "[2.4386065, 2.3055394]\n",
            "[2.4759233, 2.2806215]\n",
            "[2.5132499, 2.26198]\n",
            "[2.5474474, 2.2433336]\n",
            "[2.6095061, 2.2102075]\n",
            "[2.6374838, 2.1952486]\n",
            "[2.663609, 2.1812723]\n",
            "[2.6880085, 2.1682215]\n",
            "[2.7320755, 2.1446497]\n",
            "[2.7519493, 2.1340191]\n",
            "[2.7705095, 2.1240911]\n",
            "[2.787843, 2.1148193]\n",
            "[2.8191488, 2.0980737]\n",
            "[2.8332675, 2.0905216]\n",
            "[2.846453, 2.0834687]\n",
            "[2.858767, 2.076882]\n",
            "[2.8810072, 2.0649855]\n",
            "[2.8910372, 2.0596201]\n",
            "[2.9004045, 2.0546098]\n",
            "[2.9091525, 2.0499303]\n",
            "[2.9249523, 2.0414789]\n",
            "[2.932078, 2.0376675]\n",
            "[2.9387324, 2.034108]\n",
            "[2.9449472, 2.0307837]\n",
            "[2.9561718, 2.0247796]\n",
            "[2.9612339, 2.0220718]\n",
            "[2.9659615, 2.019543]\n",
            "[2.9703765, 2.0171814]\n",
            "[2.9783504, 2.012916]\n",
            "[2.9819467, 2.0109923]\n",
            "[2.9853053, 2.0091958]\n",
            "[2.988442, 2.007518]\n",
            "[2.9941068, 2.0044878]\n",
            "[2.9966617, 2.0031214]\n",
            "[2.9990475, 2.001845]\n",
            "[3.0012758, 2.000653]\n",
            "[3.0053, 1.9985005]\n",
            "[3.0071151, 1.9975296]\n",
            "[3.00881, 1.9966229]\n",
            "[3.0103931, 1.9957763]\n",
            "[3.013252, 1.994247]\n",
            "[3.0145414, 1.9935572]\n",
            "[3.0157456, 1.9929131]\n",
            "[3.0168703, 1.9923116]\n",
            "[3.0189013, 1.9912251]\n",
            "[3.0198174, 1.9907352]\n",
            "[3.0206728, 1.9902775]\n",
            "[3.0214717, 1.9898502]\n",
            "[3.0229146, 1.9890784]\n",
            "[3.0235653, 1.9887303]\n",
            "[3.024173, 1.9884052]\n",
            "[3.0247407, 1.9881017]\n",
            "[3.0257657, 1.9875534]\n",
            "[3.026228, 1.9873061]\n",
            "[3.0266597, 1.9870751]\n",
            "[3.027063, 1.9868594]\n",
            "[3.027791, 1.98647]\n",
            "[3.0281196, 1.9862943]\n",
            "[3.0284262, 1.9861302]\n",
            "[3.0287125, 1.985977]\n",
            "[3.0292299, 1.9857004]\n",
            "[3.0294633, 1.9855756]\n",
            "[3.0296812, 1.985459]\n",
            "[3.0298846, 1.98535]\n",
            "[3.030252, 1.9851536]\n",
            "[3.0304177, 1.9850649]\n",
            "[3.0305727, 1.9849821]\n",
            "[3.0307171, 1.9849048]\n",
            "[3.0309782, 1.9847652]\n",
            "[3.031096, 1.9847021]\n",
            "[3.031206, 1.9846433]\n",
            "[3.0313087, 1.9845884]\n",
            "[3.0314941, 1.9844892]\n",
            "[3.0315778, 1.9844444]\n",
            "[3.031656, 1.9844027]\n",
            "[3.031729, 1.9843636]\n",
            "[3.0318608, 1.984293]\n",
            "[3.0319202, 1.9842613]\n",
            "[3.0319757, 1.9842316]\n",
            "[3.0320275, 1.9842038]\n"
          ],
          "name": "stdout"
        },
        {
          "output_type": "display_data",
          "data": {
            "image/png": "[encoded data removed]",
            "text/plain": [
              "<matplotlib.figure.Figure at 0x7fd433fcff50>"
            ]
          },
          "metadata": {
            "tags": []
          }
        }
      ]
    },
    {
      "metadata": {
        "id": "am41KEXHwyuM",
        "colab_type": "code",
        "colab": {}
      },
      "cell_type": "code",
      "source": [
        "import tensorflow as tf\n",
        "import pandas as pd\n",
        "import numpy as np\n",
        "import time\n",
        "from sklearn.datasets import load_iris\n",
        "from sklearn.model_selection import train_test_split\n",
        "import matplotlib.pyplot as plt"
      ],
      "execution_count": 0,
      "outputs": []
    },
    {
      "metadata": {
        "id": "Udk1YZJ24mof",
        "colab_type": "code",
        "colab": {}
      },
      "cell_type": "code",
      "source": [
        "iris = load_iris()\n",
        "iris_X, iris_y = iris.data[:-1,:], iris.target[:-1]\n",
        "iris_y= pd.get_dummies(iris_y).values\n",
        "trainX, testX, trainY, testY = train_test_split(iris_X, iris_y, test_size=0.33, random_state=42)"
      ],
      "execution_count": 0,
      "outputs": []
    },
    {
      "metadata": {
        "id": "nqzLcQKh4xus",
        "colab_type": "code",
        "outputId": "54f426dd-540d-4908-a460-fc36ea1eeea8",
        "colab": {
          "base_uri": "https://localhost:8080/",
          "height": 2550
        }
      },
      "cell_type": "code",
      "source": [
        "iris_y"
      ],
      "execution_count": 19,
      "outputs": [
        {
          "output_type": "execute_result",
          "data": {
            "text/plain": [
              "array([[1, 0, 0],\n",
              "       [1, 0, 0],\n",
              "       [1, 0, 0],\n",
              "       [1, 0, 0],\n",
              "       [1, 0, 0],\n",
              "       [1, 0, 0],\n",
              "       [1, 0, 0],\n",
              "       [1, 0, 0],\n",
              "       [1, 0, 0],\n",
              "       [1, 0, 0],\n",
              "       [1, 0, 0],\n",
              "       [1, 0, 0],\n",
              "       [1, 0, 0],\n",
              "       [1, 0, 0],\n",
              "       [1, 0, 0],\n",
              "       [1, 0, 0],\n",
              "       [1, 0, 0],\n",
              "       [1, 0, 0],\n",
              "       [1, 0, 0],\n",
              "       [1, 0, 0],\n",
              "       [1, 0, 0],\n",
              "       [1, 0, 0],\n",
              "       [1, 0, 0],\n",
              "       [1, 0, 0],\n",
              "       [1, 0, 0],\n",
              "       [1, 0, 0],\n",
              "       [1, 0, 0],\n",
              "       [1, 0, 0],\n",
              "       [1, 0, 0],\n",
              "       [1, 0, 0],\n",
              "       [1, 0, 0],\n",
              "       [1, 0, 0],\n",
              "       [1, 0, 0],\n",
              "       [1, 0, 0],\n",
              "       [1, 0, 0],\n",
              "       [1, 0, 0],\n",
              "       [1, 0, 0],\n",
              "       [1, 0, 0],\n",
              "       [1, 0, 0],\n",
              "       [1, 0, 0],\n",
              "       [1, 0, 0],\n",
              "       [1, 0, 0],\n",
              "       [1, 0, 0],\n",
              "       [1, 0, 0],\n",
              "       [1, 0, 0],\n",
              "       [1, 0, 0],\n",
              "       [1, 0, 0],\n",
              "       [1, 0, 0],\n",
              "       [1, 0, 0],\n",
              "       [1, 0, 0],\n",
              "       [0, 1, 0],\n",
              "       [0, 1, 0],\n",
              "       [0, 1, 0],\n",
              "       [0, 1, 0],\n",
              "       [0, 1, 0],\n",
              "       [0, 1, 0],\n",
              "       [0, 1, 0],\n",
              "       [0, 1, 0],\n",
              "       [0, 1, 0],\n",
              "       [0, 1, 0],\n",
              "       [0, 1, 0],\n",
              "       [0, 1, 0],\n",
              "       [0, 1, 0],\n",
              "       [0, 1, 0],\n",
              "       [0, 1, 0],\n",
              "       [0, 1, 0],\n",
              "       [0, 1, 0],\n",
              "       [0, 1, 0],\n",
              "       [0, 1, 0],\n",
              "       [0, 1, 0],\n",
              "       [0, 1, 0],\n",
              "       [0, 1, 0],\n",
              "       [0, 1, 0],\n",
              "       [0, 1, 0],\n",
              "       [0, 1, 0],\n",
              "       [0, 1, 0],\n",
              "       [0, 1, 0],\n",
              "       [0, 1, 0],\n",
              "       [0, 1, 0],\n",
              "       [0, 1, 0],\n",
              "       [0, 1, 0],\n",
              "       [0, 1, 0],\n",
              "       [0, 1, 0],\n",
              "       [0, 1, 0],\n",
              "       [0, 1, 0],\n",
              "       [0, 1, 0],\n",
              "       [0, 1, 0],\n",
              "       [0, 1, 0],\n",
              "       [0, 1, 0],\n",
              "       [0, 1, 0],\n",
              "       [0, 1, 0],\n",
              "       [0, 1, 0],\n",
              "       [0, 1, 0],\n",
              "       [0, 1, 0],\n",
              "       [0, 1, 0],\n",
              "       [0, 1, 0],\n",
              "       [0, 1, 0],\n",
              "       [0, 1, 0],\n",
              "       [0, 1, 0],\n",
              "       [0, 1, 0],\n",
              "       [0, 0, 1],\n",
              "       [0, 0, 1],\n",
              "       [0, 0, 1],\n",
              "       [0, 0, 1],\n",
              "       [0, 0, 1],\n",
              "       [0, 0, 1],\n",
              "       [0, 0, 1],\n",
              "       [0, 0, 1],\n",
              "       [0, 0, 1],\n",
              "       [0, 0, 1],\n",
              "       [0, 0, 1],\n",
              "       [0, 0, 1],\n",
              "       [0, 0, 1],\n",
              "       [0, 0, 1],\n",
              "       [0, 0, 1],\n",
              "       [0, 0, 1],\n",
              "       [0, 0, 1],\n",
              "       [0, 0, 1],\n",
              "       [0, 0, 1],\n",
              "       [0, 0, 1],\n",
              "       [0, 0, 1],\n",
              "       [0, 0, 1],\n",
              "       [0, 0, 1],\n",
              "       [0, 0, 1],\n",
              "       [0, 0, 1],\n",
              "       [0, 0, 1],\n",
              "       [0, 0, 1],\n",
              "       [0, 0, 1],\n",
              "       [0, 0, 1],\n",
              "       [0, 0, 1],\n",
              "       [0, 0, 1],\n",
              "       [0, 0, 1],\n",
              "       [0, 0, 1],\n",
              "       [0, 0, 1],\n",
              "       [0, 0, 1],\n",
              "       [0, 0, 1],\n",
              "       [0, 0, 1],\n",
              "       [0, 0, 1],\n",
              "       [0, 0, 1],\n",
              "       [0, 0, 1],\n",
              "       [0, 0, 1],\n",
              "       [0, 0, 1],\n",
              "       [0, 0, 1],\n",
              "       [0, 0, 1],\n",
              "       [0, 0, 1],\n",
              "       [0, 0, 1],\n",
              "       [0, 0, 1],\n",
              "       [0, 0, 1],\n",
              "       [0, 0, 1]], dtype=uint8)"
            ]
          },
          "metadata": {
            "tags": []
          },
          "execution_count": 19
        }
      ]
    },
    {
      "metadata": {
        "id": "-NxPZvhl42Nk",
        "colab_type": "code",
        "outputId": "48bacd29-5938-4dc5-a806-21527a5376e2",
        "colab": {
          "base_uri": "https://localhost:8080/",
          "height": 34
        }
      },
      "cell_type": "code",
      "source": [
        "iris_X.shape"
      ],
      "execution_count": 20,
      "outputs": [
        {
          "output_type": "execute_result",
          "data": {
            "text/plain": [
              "(149, 4)"
            ]
          },
          "metadata": {
            "tags": []
          },
          "execution_count": 20
        }
      ]
    },
    {
      "metadata": {
        "id": "E7Ys7CUn5lVe",
        "colab_type": "code",
        "colab": {}
      },
      "cell_type": "code",
      "source": [
        "# numFeatures is the number of features in our input data.\n",
        "# In the iris dataset, this number is '4'.\n",
        "numFeatures = trainX.shape[1]\n",
        "\n",
        "# numLabels is the number of classes our data points can be in.\n",
        "# In the iris dataset, this number is '3'.\n",
        "numLabels = trainY.shape[1]\n",
        "\n",
        "\n",
        "# Placeholders\n",
        "# 'None' means TensorFlow shouldn't expect a fixed number in that dimension\n",
        "X = tf.placeholder(tf.float32, [None, numFeatures]) # Iris has 4 features, so X is a tensor to hold our data.\n",
        "yGold = tf.placeholder(tf.float32, [None, numLabels]) # This will be our correct answers matrix for 3 classes."
      ],
      "execution_count": 0,
      "outputs": []
    },
    {
      "metadata": {
        "id": "5xfnpgDm6kB-",
        "colab_type": "code",
        "colab": {}
      },
      "cell_type": "code",
      "source": [
        "W = tf.Variable(tf.zeros([4, 3]))  # 4-dimensional input and  3 classes\n",
        "b = tf.Variable(tf.zeros([3])) # 3-dimensional output [0,0,1],[0,1,0],[1,0,0]"
      ],
      "execution_count": 0,
      "outputs": []
    },
    {
      "metadata": {
        "id": "uAYHoBOm6lVH",
        "colab_type": "code",
        "outputId": "53ed2736-6814-4ca1-e24e-af3e2c434cfd",
        "colab": {
          "base_uri": "https://localhost:8080/",
          "height": 34
        }
      },
      "cell_type": "code",
      "source": [
        "b"
      ],
      "execution_count": 29,
      "outputs": [
        {
          "output_type": "execute_result",
          "data": {
            "text/plain": [
              "<tf.Variable 'Variable_5:0' shape=(3,) dtype=float32_ref>"
            ]
          },
          "metadata": {
            "tags": []
          },
          "execution_count": 29
        }
      ]
    },
    {
      "metadata": {
        "id": "q456MLut6nIe",
        "colab_type": "code",
        "colab": {}
      },
      "cell_type": "code",
      "source": [
        "#Randomly sample from a normal distribution with standard deviation .01\n",
        "\n",
        "weights = tf.Variable(tf.random_normal([numFeatures,numLabels],\n",
        "                                       mean=0,\n",
        "                                       stddev=0.01,\n",
        "                                       name=\"weights\"))\n",
        "\n",
        "bias = tf.Variable(tf.random_normal([1,numLabels],\n",
        "                                    mean=0,\n",
        "                                    stddev=0.01,\n",
        "                                    name=\"bias\"))"
      ],
      "execution_count": 0,
      "outputs": []
    },
    {
      "metadata": {
        "id": "Sb9ZgIAK7rLu",
        "colab_type": "code",
        "outputId": "10b6296a-b60e-4490-8c69-d7bac787f4d6",
        "colab": {
          "base_uri": "https://localhost:8080/",
          "height": 34
        }
      },
      "cell_type": "code",
      "source": [
        "weights"
      ],
      "execution_count": 31,
      "outputs": [
        {
          "output_type": "execute_result",
          "data": {
            "text/plain": [
              "<tf.Variable 'Variable_8:0' shape=(4, 3) dtype=float32_ref>"
            ]
          },
          "metadata": {
            "tags": []
          },
          "execution_count": 31
        }
      ]
    },
    {
      "metadata": {
        "id": "6FNf3Bn97scW",
        "colab_type": "code",
        "colab": {}
      },
      "cell_type": "code",
      "source": [
        "# Three-component breakdown of the Logistic Regression equation.\n",
        "# Note that these feed into each other.\n",
        "apply_weights_OP = tf.matmul(X, weights, name=\"apply_weights\")\n",
        "add_bias_OP = tf.add(apply_weights_OP, bias, name=\"add_bias\") \n",
        "activation_OP = tf.nn.sigmoid(add_bias_OP, name=\"activation\")"
      ],
      "execution_count": 0,
      "outputs": []
    },
    {
      "metadata": {
        "id": "ntY8xhqI7zru",
        "colab_type": "code",
        "colab": {}
      },
      "cell_type": "code",
      "source": [
        "# Number of Epochs in our training\n",
        "numEpochs = 700\n",
        "\n",
        "# Defining our learning rate iterations (decay)\n",
        "learningRate = tf.train.exponential_decay(learning_rate=0.0008,\n",
        "                                          global_step= 1,\n",
        "                                          decay_steps=trainX.shape[0],\n",
        "                                          decay_rate= 0.95,\n",
        "                                          staircase=True)"
      ],
      "execution_count": 0,
      "outputs": []
    },
    {
      "metadata": {
        "id": "Uqgvo7Pa7-GM",
        "colab_type": "code",
        "colab": {}
      },
      "cell_type": "code",
      "source": [
        "#Defining our cost function - Squared Mean Error\n",
        "cost_OP = tf.nn.l2_loss(activation_OP-yGold, name=\"squared_error_cost\")\n",
        "\n",
        "#Defining our Gradient Descent\n",
        "training_OP = tf.train.GradientDescentOptimizer(learningRate).minimize(cost_OP)"
      ],
      "execution_count": 0,
      "outputs": []
    },
    {
      "metadata": {
        "id": "VQFUkzwi8Ebr",
        "colab_type": "code",
        "colab": {}
      },
      "cell_type": "code",
      "source": [
        "# Create a tensorflow session\n",
        "sess = tf.Session()\n",
        "\n",
        "# Initialize our weights and biases variables.\n",
        "init_OP = tf.global_variables_initializer()\n",
        "\n",
        "# Initialize all tensorflow variables\n",
        "sess.run(init_OP)"
      ],
      "execution_count": 0,
      "outputs": []
    },
    {
      "metadata": {
        "id": "Yst-qPmR8NaZ",
        "colab_type": "code",
        "colab": {}
      },
      "cell_type": "code",
      "source": [
        "# argmax(activation_OP, 1) returns the label with the most probability\n",
        "# argmax(yGold, 1) is the correct label\n",
        "correct_predictions_OP = tf.equal(tf.argmax(activation_OP,1),tf.argmax(yGold,1))\n",
        "\n",
        "# If every false prediction is 0 and every true prediction is 1, the average returns us the accuracy\n",
        "accuracy_OP = tf.reduce_mean(tf.cast(correct_predictions_OP, \"float\"))\n",
        "\n",
        "# Summary op for regression output\n",
        "activation_summary_OP = tf.summary.histogram(\"output\", activation_OP)\n",
        "\n",
        "# Summary op for accuracy\n",
        "accuracy_summary_OP = tf.summary.scalar(\"accuracy\", accuracy_OP)\n",
        "\n",
        "# Summary op for cost\n",
        "cost_summary_OP = tf.summary.scalar(\"cost\", cost_OP)\n",
        "\n",
        "# Summary ops to check how variables (W, b) are updating after each iteration\n",
        "weightSummary = tf.summary.histogram(\"weights\", weights.eval(session=sess))\n",
        "biasSummary = tf.summary.histogram(\"biases\", bias.eval(session=sess))\n",
        "\n",
        "# Merge all summaries\n",
        "merged = tf.summary.merge([activation_summary_OP, accuracy_summary_OP, cost_summary_OP, weightSummary, biasSummary])\n",
        "\n",
        "# Summary writer\n",
        "writer = tf.summary.FileWriter(\"summary_logs\", sess.graph)"
      ],
      "execution_count": 0,
      "outputs": []
    },
    {
      "metadata": {
        "id": "hcgR7Bf48Wio",
        "colab_type": "code",
        "outputId": "fc0c5daa-0192-439a-d1db-5706b5badeef",
        "colab": {
          "base_uri": "https://localhost:8080/",
          "height": 1224
        }
      },
      "cell_type": "code",
      "source": [
        "# Initialize reporting variables\n",
        "cost = 0\n",
        "diff = 1\n",
        "epoch_values = []\n",
        "accuracy_values = []\n",
        "cost_values = []\n",
        "\n",
        "# Training epochs\n",
        "for i in range(numEpochs):\n",
        "    if i > 1 and diff < .0001:\n",
        "        print(\"change in cost %g; convergence.\"%diff)\n",
        "        break\n",
        "    else:\n",
        "        # Run training step\n",
        "        step = sess.run(training_OP, feed_dict={X: trainX, yGold: trainY})\n",
        "        # Report occasional stats\n",
        "        if i % 10 == 0:\n",
        "            # Add epoch to epoch_values\n",
        "            epoch_values.append(i)\n",
        "            # Generate accuracy stats on test data\n",
        "            train_accuracy, newCost = sess.run([accuracy_OP, cost_OP], feed_dict={X: trainX, yGold: trainY})\n",
        "            # Add accuracy to live graphing variable\n",
        "            accuracy_values.append(train_accuracy)\n",
        "            # Add cost to live graphing variable\n",
        "            cost_values.append(newCost)\n",
        "            # Re-assign values for variables\n",
        "            diff = abs(newCost - cost)\n",
        "            cost = newCost\n",
        "\n",
        "            #generate print statements\n",
        "            print(\"step %d, training accuracy %g, cost %g, change in cost %g\"%(i, train_accuracy, newCost, diff))\n",
        "\n",
        "\n",
        "# How well do we perform on held-out test data?\n",
        "print(\"final accuracy on test set: %s\" %str(sess.run(accuracy_OP, \n",
        "                                                     feed_dict={X: testX, \n",
        "                                                                yGold: testY})))"
      ],
      "execution_count": 44,
      "outputs": [
        {
          "output_type": "stream",
          "text": [
            "step 0, training accuracy 0.333333, cost 34.3212, change in cost 34.3212\n",
            "step 10, training accuracy 0.444444, cost 30.3112, change in cost 4.01002\n",
            "step 20, training accuracy 0.646465, cost 28.343, change in cost 1.96822\n",
            "step 30, training accuracy 0.646465, cost 26.6752, change in cost 1.66773\n",
            "step 40, training accuracy 0.646465, cost 25.286, change in cost 1.38924\n",
            "step 50, training accuracy 0.646465, cost 24.1367, change in cost 1.14935\n",
            "step 60, training accuracy 0.646465, cost 23.1847, change in cost 0.951929\n",
            "step 70, training accuracy 0.646465, cost 22.3917, change in cost 0.79306\n",
            "step 80, training accuracy 0.646465, cost 21.7253, change in cost 0.666321\n",
            "step 90, training accuracy 0.646465, cost 21.1601, change in cost 0.56525\n",
            "step 100, training accuracy 0.666667, cost 20.6758, change in cost 0.484318\n",
            "step 110, training accuracy 0.666667, cost 20.2567, change in cost 0.419064\n",
            "step 120, training accuracy 0.666667, cost 19.8907, change in cost 0.366037\n",
            "step 130, training accuracy 0.666667, cost 19.5681, change in cost 0.322557\n",
            "step 140, training accuracy 0.666667, cost 19.2815, change in cost 0.286619\n",
            "step 150, training accuracy 0.666667, cost 19.0249, change in cost 0.256638\n",
            "step 160, training accuracy 0.686869, cost 18.7934, change in cost 0.231438\n",
            "step 170, training accuracy 0.69697, cost 18.5833, change in cost 0.210081\n",
            "step 180, training accuracy 0.69697, cost 18.3915, change in cost 0.191849\n",
            "step 190, training accuracy 0.717172, cost 18.2153, change in cost 0.176176\n",
            "step 200, training accuracy 0.717172, cost 18.0527, change in cost 0.162613\n",
            "step 210, training accuracy 0.737374, cost 17.9019, change in cost 0.150803\n",
            "step 220, training accuracy 0.747475, cost 17.7614, change in cost 0.140453\n",
            "step 230, training accuracy 0.747475, cost 17.6301, change in cost 0.13134\n",
            "step 240, training accuracy 0.757576, cost 17.5068, change in cost 0.123266\n",
            "step 250, training accuracy 0.787879, cost 17.3908, change in cost 0.116087\n",
            "step 260, training accuracy 0.787879, cost 17.2811, change in cost 0.109667\n",
            "step 270, training accuracy 0.787879, cost 17.1772, change in cost 0.103897\n",
            "step 280, training accuracy 0.787879, cost 17.0785, change in cost 0.0986996\n",
            "step 290, training accuracy 0.787879, cost 16.9845, change in cost 0.0939884\n",
            "step 300, training accuracy 0.79798, cost 16.8948, change in cost 0.0897083\n",
            "step 310, training accuracy 0.79798, cost 16.809, change in cost 0.085804\n",
            "step 320, training accuracy 0.79798, cost 16.7268, change in cost 0.0822296\n",
            "step 330, training accuracy 0.79798, cost 16.6478, change in cost 0.0789528\n",
            "step 340, training accuracy 0.808081, cost 16.5719, change in cost 0.0759258\n",
            "step 350, training accuracy 0.818182, cost 16.4987, change in cost 0.0731392\n",
            "step 360, training accuracy 0.838384, cost 16.4282, change in cost 0.0705471\n",
            "step 370, training accuracy 0.838384, cost 16.36, change in cost 0.0681496\n",
            "step 380, training accuracy 0.838384, cost 16.2941, change in cost 0.0659103\n",
            "step 390, training accuracy 0.838384, cost 16.2303, change in cost 0.0638237\n",
            "step 400, training accuracy 0.848485, cost 16.1684, change in cost 0.0618725\n",
            "step 410, training accuracy 0.848485, cost 16.1084, change in cost 0.0600395\n",
            "step 420, training accuracy 0.848485, cost 16.0501, change in cost 0.0583172\n",
            "step 430, training accuracy 0.858586, cost 15.9934, change in cost 0.0567007\n",
            "step 440, training accuracy 0.858586, cost 15.9382, change in cost 0.055172\n",
            "step 450, training accuracy 0.868687, cost 15.8845, change in cost 0.0537252\n",
            "step 460, training accuracy 0.878788, cost 15.8321, change in cost 0.0523615\n",
            "step 470, training accuracy 0.878788, cost 15.7811, change in cost 0.0510645\n",
            "step 480, training accuracy 0.878788, cost 15.7312, change in cost 0.0498343\n",
            "step 490, training accuracy 0.878788, cost 15.6826, change in cost 0.0486631\n",
            "step 500, training accuracy 0.878788, cost 15.635, change in cost 0.0475521\n",
            "step 510, training accuracy 0.878788, cost 15.5885, change in cost 0.0464859\n",
            "step 520, training accuracy 0.878788, cost 15.543, change in cost 0.0454712\n",
            "step 530, training accuracy 0.888889, cost 15.4985, change in cost 0.0444994\n",
            "step 540, training accuracy 0.89899, cost 15.455, change in cost 0.0435724\n",
            "step 550, training accuracy 0.89899, cost 15.4123, change in cost 0.0426807\n",
            "step 560, training accuracy 0.89899, cost 15.3705, change in cost 0.0418262\n",
            "step 570, training accuracy 0.89899, cost 15.3295, change in cost 0.0410051\n",
            "step 580, training accuracy 0.89899, cost 15.2892, change in cost 0.0402164\n",
            "step 590, training accuracy 0.909091, cost 15.2498, change in cost 0.0394583\n",
            "step 600, training accuracy 0.909091, cost 15.2111, change in cost 0.0387259\n",
            "step 610, training accuracy 0.909091, cost 15.173, change in cost 0.0380201\n",
            "step 620, training accuracy 0.909091, cost 15.1357, change in cost 0.0373421\n",
            "step 630, training accuracy 0.909091, cost 15.099, change in cost 0.0366831\n",
            "step 640, training accuracy 0.909091, cost 15.063, change in cost 0.0360479\n",
            "step 650, training accuracy 0.909091, cost 15.0275, change in cost 0.0354366\n",
            "step 660, training accuracy 0.909091, cost 14.9927, change in cost 0.0348425\n",
            "step 670, training accuracy 0.909091, cost 14.9584, change in cost 0.0342646\n",
            "step 680, training accuracy 0.909091, cost 14.9247, change in cost 0.0337067\n",
            "step 690, training accuracy 0.909091, cost 14.8916, change in cost 0.0331688\n",
            "final accuracy on test set: 0.9\n"
          ],
          "name": "stdout"
        }
      ]
    },
    {
      "metadata": {
        "id": "JNEwLJtL-PLK",
        "colab_type": "code",
        "outputId": "77d9b2c2-0ede-4f08-cc76-223ee80176bd",
        "colab": {
          "base_uri": "https://localhost:8080/",
          "height": 333
        }
      },
      "cell_type": "code",
      "source": [
        "%matplotlib inline\n",
        "import numpy as np\n",
        "import matplotlib.pyplot as plt\n",
        "plt.plot([np.mean(cost_values[i-50:i]) for i in range(len(cost_values))])\n",
        "plt.show()"
      ],
      "execution_count": 45,
      "outputs": [
        {
          "output_type": "stream",
          "text": [
            "/usr/local/lib/python2.7/dist-packages/numpy/core/fromnumeric.py:2957: RuntimeWarning: Mean of empty slice.\n",
            "  out=out, **kwargs)\n",
            "/usr/local/lib/python2.7/dist-packages/numpy/core/_methods.py:80: RuntimeWarning: invalid value encountered in double_scalars\n",
            "  ret = ret.dtype.type(ret / rcount)\n"
          ],
          "name": "stderr"
        },
        {
          "output_type": "display_data",
          "data": {
            "image/png": "[encoded data removed]",
            "text/plain": [
              "<matplotlib.figure.Figure at 0x7fd42c654f10>"
            ]
          },
          "metadata": {
            "tags": []
          }
        }
      ]
    },
    {
      "metadata": {
        "id": "5GhKXDd5-aDo",
        "colab_type": "code",
        "colab": {}
      },
      "cell_type": "code",
      "source": [
        "import tensorflow as tf\n",
        "import numpy as np\n",
        "import matplotlib.pyplot as plt\n",
        "\n",
        "from mpl_toolkits.mplot3d import Axes3D\n",
        "\n",
        "%matplotlib inline"
      ],
      "execution_count": 0,
      "outputs": []
    },
    {
      "metadata": {
        "id": "NJpRN8RpEdV4",
        "colab_type": "code",
        "colab": {}
      },
      "cell_type": "code",
      "source": [
        "def plot_act(i=1.0, actfunc=lambda x: x):\n",
        "    ws = np.arange(-0.5, 0.5, 0.05)\n",
        "    bs = np.arange(-0.5, 0.5, 0.05)\n",
        "\n",
        "    X, Y = np.meshgrid(ws, bs)\n",
        "\n",
        "    os = np.array([actfunc(tf.constant(w*i + b)).eval(session=sess) \\\n",
        "                   for w,b in zip(np.ravel(X), np.ravel(Y))])\n",
        "\n",
        "    Z = os.reshape(X.shape)\n",
        "\n",
        "    fig = plt.figure()\n",
        "    ax = fig.add_subplot(111, projection='3d')\n",
        "    ax.plot_surface(X, Y, Z, rstride=1, cstride=1)"
      ],
      "execution_count": 0,
      "outputs": []
    },
    {
      "metadata": {
        "id": "ucaNBL2tEe_I",
        "colab_type": "code",
        "outputId": "105d8a99-49c3-4155-fa12-a826c7a95960",
        "colab": {
          "base_uri": "https://localhost:8080/",
          "height": 34
        }
      },
      "cell_type": "code",
      "source": [
        "#start a session\n",
        "sess = tf.Session();\n",
        "#create a simple input of 3 real values\n",
        "i = tf.constant([1.0, 2.0, 3.0], shape=[1, 3])\n",
        "#create a matrix of weights\n",
        "w = tf.random_normal(shape=[3, 3])\n",
        "#create a vector of biases\n",
        "b = tf.random_normal(shape=[1, 3])\n",
        "#dummy activation function\n",
        "def func(x): return x\n",
        "#tf.matmul will multiply the input(i) tensor and the weight(w) tensor then sum the result with the bias(b) tensor.\n",
        "act = func(tf.matmul(i, w) + b)\n",
        "#Evaluate the tensor to a numpy array\n",
        "act.eval(session=sess)"
      ],
      "execution_count": 48,
      "outputs": [
        {
          "output_type": "execute_result",
          "data": {
            "text/plain": [
              "array([[-5.7151837, -3.170189 , 10.312736 ]], dtype=float32)"
            ]
          },
          "metadata": {
            "tags": []
          },
          "execution_count": 48
        }
      ]
    },
    {
      "metadata": {
        "id": "BQhRbQdvEz0e",
        "colab_type": "code",
        "outputId": "a29e6b4c-0f87-45f3-ba79-896500b00811",
        "colab": {
          "base_uri": "https://localhost:8080/",
          "height": 68
        }
      },
      "cell_type": "code",
      "source": [
        "w.eval(session=sess)"
      ],
      "execution_count": 49,
      "outputs": [
        {
          "output_type": "execute_result",
          "data": {
            "text/plain": [
              "array([[ 0.65717435,  0.95245206,  0.6431635 ],\n",
              "       [-0.94684964,  1.8078141 ,  0.42827365],\n",
              "       [-0.2166905 ,  2.2075174 ,  0.25804025]], dtype=float32)"
            ]
          },
          "metadata": {
            "tags": []
          },
          "execution_count": 49
        }
      ]
    },
    {
      "metadata": {
        "id": "-gJPXU3iE6aV",
        "colab_type": "code",
        "outputId": "795f65b5-44e1-4912-d8c9-8e445872ebf3",
        "colab": {
          "base_uri": "https://localhost:8080/",
          "height": 248
        }
      },
      "cell_type": "code",
      "source": [
        "plot_act(3.0, tf.tanh)"
      ],
      "execution_count": 50,
      "outputs": [
        {
          "output_type": "display_data",
          "data": {
            "image/png": "[encoded data removed]",
            "text/plain": [
              "<matplotlib.figure.Figure at 0x7fd42c6adad0>"
            ]
          },
          "metadata": {
            "tags": []
          }
        }
      ]
    },
    {
      "metadata": {
        "id": "CNyfrvLbFUF6",
        "colab_type": "code",
        "outputId": "3bb0ab06-a3b8-4986-bd5d-8045f496ec1b",
        "colab": {
          "base_uri": "https://localhost:8080/",
          "height": 248
        }
      },
      "cell_type": "code",
      "source": [
        "plot_act(1, tf.sigmoid)"
      ],
      "execution_count": 0,
      "outputs": [
        {
          "output_type": "display_data",
          "data": {
            "image/png": "[encoded data removed]",
            "text/plain": [
              "<matplotlib.figure.Figure at 0x7fbe9dcc1a50>"
            ]
          },
          "metadata": {
            "tags": []
          }
        }
      ]
    },
    {
      "metadata": {
        "id": "2AUsPfhZF9Oy",
        "colab_type": "code",
        "outputId": "71ca2c91-f145-4b41-b128-7bbfda129712",
        "colab": {
          "base_uri": "https://localhost:8080/",
          "height": 204
        }
      },
      "cell_type": "code",
      "source": [
        "from scipy import signal as sg\n",
        "\n",
        "I= [[255,   7,  3],\n",
        "    [212, 240,  4],\n",
        "    [218, 216, 230],]\n",
        "\n",
        "g= [[-1,1]]\n",
        "\n",
        "print ('Without zero padding \\n')\n",
        "print ('{0} \\n'.format(sg.convolve( I, g, 'valid')))\n",
        "# The 'valid' argument states that the output consists only of those elements \n",
        "# that do not rely on the zero-padding.\n",
        "\n",
        "print ('With zero padding \\n')\n",
        "print (sg.convolve( I, g))"
      ],
      "execution_count": 0,
      "outputs": [
        {
          "output_type": "stream",
          "text": [
            "Without zero padding \n",
            "\n",
            "[[248   4]\n",
            " [-28 236]\n",
            " [  2 -14]] \n",
            "\n",
            "With zero padding \n",
            "\n",
            "[[-255  248    4    3]\n",
            " [-212  -28  236    4]\n",
            " [-218    2  -14  230]]\n"
          ],
          "name": "stdout"
        }
      ]
    },
    {
      "metadata": {
        "id": "e0aaz0dWLqGZ",
        "colab_type": "code",
        "outputId": "6500c398-eb89-4e16-d037-693dd023df7f",
        "colab": {
          "base_uri": "https://localhost:8080/",
          "height": 164
        }
      },
      "cell_type": "code",
      "source": [
        "y= np.conv2d(I,g,\"valid\")  #we will understand why we used the argument valid in the next example\n"
      ],
      "execution_count": 0,
      "outputs": [
        {
          "output_type": "error",
          "ename": "AttributeError",
          "evalue": "ignored",
          "traceback": [
            "\u001b[0;31m\u001b[0m",
            "\u001b[0;31mAttributeError\u001b[0mTraceback (most recent call last)",
            "\u001b[0;32m<ipython-input-124-cc4807f6479c>\u001b[0m in \u001b[0;36m<module>\u001b[0;34m()\u001b[0m\n\u001b[0;32m----> 1\u001b[0;31m \u001b[0my\u001b[0m\u001b[0;34m=\u001b[0m \u001b[0mnp\u001b[0m\u001b[0;34m.\u001b[0m\u001b[0mconv2d\u001b[0m\u001b[0;34m(\u001b[0m\u001b[0mI\u001b[0m\u001b[0;34m,\u001b[0m\u001b[0mg\u001b[0m\u001b[0;34m,\u001b[0m\u001b[0;34m\"valid\"\u001b[0m\u001b[0;34m)\u001b[0m  \u001b[0;31m#we will understand why we used the argument valid in the next example\u001b[0m\u001b[0;34m\u001b[0m\u001b[0m\n\u001b[0m",
            "\u001b[0;31mAttributeError\u001b[0m: 'module' object has no attribute 'conv2d'"
          ]
        }
      ]
    },
    {
      "metadata": {
        "id": "nQlNkQ1wLwQ4",
        "colab_type": "code",
        "outputId": "7c647ce3-ec4a-47f7-ab6f-8c7c2d694518",
        "colab": {
          "base_uri": "https://localhost:8080/",
          "height": 5457
        }
      },
      "cell_type": "code",
      "source": [
        "import tensorflow as tf\n",
        "\n",
        "#Building graph\n",
        "\n",
        "input = tf.Variable(tf.random_normal([1,10,10,1]))\n",
        "filter = tf.Variable(tf.random_normal([3,3,1,1]))\n",
        "op = tf.nn.conv2d(input, filter, strides=[1, 1, 1, 1], padding='VALID')\n",
        "op2 = tf.nn.conv2d(input, filter, strides=[1, 1, 1, 1], padding='SAME')\n",
        "\n",
        "#Initialization and session\n",
        "init = tf.global_variables_initializer()\n",
        "with tf.Session() as sess:\n",
        "    sess.run(init)\n",
        "\n",
        "    print(\"Input \\n\")\n",
        "    print('{0} \\n'.format(input.eval()))\n",
        "    print(\"Filter/Kernel \\n\")\n",
        "    print('{0} \\n'.format(filter.eval()))\n",
        "    print(\"Result/Feature Map with valid positions \\n\")\n",
        "    result = sess.run(op)\n",
        "    print(result)\n",
        "    print('\\n')\n",
        "    print(\"Result/Feature Map with padding \\n\")\n",
        "    result2 = sess.run(op2)\n",
        "    print(result2)"
      ],
      "execution_count": 0,
      "outputs": [
        {
          "output_type": "stream",
          "text": [
            "Input \n",
            "\n",
            "[[[[ 3.83312136e-01]\n",
            "   [-1.07100499e+00]\n",
            "   [ 7.89145827e-01]\n",
            "   [-4.43235606e-01]\n",
            "   [-2.16041088e-01]\n",
            "   [ 1.82583857e+00]\n",
            "   [-2.01432157e+00]\n",
            "   [-1.30242193e+00]\n",
            "   [ 1.40961909e+00]\n",
            "   [-3.81217271e-01]]\n",
            "\n",
            "  [[-1.02560377e+00]\n",
            "   [-4.57101196e-01]\n",
            "   [-1.03777695e+00]\n",
            "   [-2.01052690e+00]\n",
            "   [ 4.49969739e-01]\n",
            "   [ 5.28774619e-01]\n",
            "   [ 9.67273936e-02]\n",
            "   [ 1.12754025e-01]\n",
            "   [-1.83029628e+00]\n",
            "   [-1.27229199e-01]]\n",
            "\n",
            "  [[-1.02863336e+00]\n",
            "   [-4.14387137e-01]\n",
            "   [ 8.84312272e-01]\n",
            "   [-2.86405832e-02]\n",
            "   [ 7.75571644e-01]\n",
            "   [-2.99592227e-01]\n",
            "   [-6.20068252e-01]\n",
            "   [ 8.61941099e-01]\n",
            "   [-1.66251373e+00]\n",
            "   [ 7.18592048e-01]]\n",
            "\n",
            "  [[-7.12802410e-01]\n",
            "   [ 5.06085157e-01]\n",
            "   [-4.40016240e-01]\n",
            "   [ 1.33714902e+00]\n",
            "   [-4.74786103e-01]\n",
            "   [-3.14772964e-01]\n",
            "   [-7.30481803e-01]\n",
            "   [-1.08249974e+00]\n",
            "   [ 6.89433932e-01]\n",
            "   [-9.99067247e-01]]\n",
            "\n",
            "  [[-1.67796254e+00]\n",
            "   [ 7.04711080e-01]\n",
            "   [ 4.13750708e-01]\n",
            "   [ 1.03808331e+00]\n",
            "   [ 3.08511710e+00]\n",
            "   [ 6.57749295e-01]\n",
            "   [-9.87430871e-01]\n",
            "   [ 2.16341048e-01]\n",
            "   [-1.25429463e+00]\n",
            "   [ 2.15369299e-01]]\n",
            "\n",
            "  [[-7.20158964e-02]\n",
            "   [ 5.63903213e-01]\n",
            "   [-1.20602965e+00]\n",
            "   [ 1.39855623e-01]\n",
            "   [ 4.76195574e-01]\n",
            "   [ 2.83145618e+00]\n",
            "   [ 8.49087894e-01]\n",
            "   [-7.88676918e-01]\n",
            "   [ 2.54814251e-04]\n",
            "   [-2.93244362e-01]]\n",
            "\n",
            "  [[ 1.07881486e+00]\n",
            "   [-1.21848993e-01]\n",
            "   [-3.99658114e-01]\n",
            "   [ 1.03530042e-01]\n",
            "   [ 8.90076041e-01]\n",
            "   [-2.15309334e+00]\n",
            "   [-1.22327290e-01]\n",
            "   [ 1.13331422e-01]\n",
            "   [ 2.09874231e-02]\n",
            "   [ 5.96077621e-01]]\n",
            "\n",
            "  [[ 9.61859107e-01]\n",
            "   [-4.01614368e-01]\n",
            "   [-7.05366880e-02]\n",
            "   [ 3.45673442e-01]\n",
            "   [-1.10393691e+00]\n",
            "   [-1.73291051e+00]\n",
            "   [-8.16916287e-01]\n",
            "   [-3.88693988e-01]\n",
            "   [ 4.24037397e-01]\n",
            "   [ 7.36919641e-02]]\n",
            "\n",
            "  [[ 3.94838929e-01]\n",
            "   [-5.27825117e-01]\n",
            "   [ 2.62597799e-01]\n",
            "   [ 6.12992406e-01]\n",
            "   [ 2.25211263e-01]\n",
            "   [-1.04764616e+00]\n",
            "   [-2.11857033e+00]\n",
            "   [ 4.21457261e-01]\n",
            "   [-3.30815256e-01]\n",
            "   [-8.99108946e-01]]\n",
            "\n",
            "  [[-3.99565548e-01]\n",
            "   [ 5.45084357e-01]\n",
            "   [ 1.11180592e+00]\n",
            "   [-3.10265332e-01]\n",
            "   [ 6.99666798e-01]\n",
            "   [ 6.73767686e-01]\n",
            "   [ 7.30791748e-01]\n",
            "   [ 6.32036865e-01]\n",
            "   [ 3.89774173e-01]\n",
            "   [-2.78429180e-01]]]] \n",
            "\n",
            "Filter/Kernel \n",
            "\n",
            "[[[[-1.0157765 ]]\n",
            "\n",
            "  [[-1.2508082 ]]\n",
            "\n",
            "  [[ 0.28602356]]]\n",
            "\n",
            "\n",
            " [[[-0.4385948 ]]\n",
            "\n",
            "  [[-1.6925386 ]]\n",
            "\n",
            "  [[ 2.072213  ]]]\n",
            "\n",
            "\n",
            " [[[ 0.11826228]]\n",
            "\n",
            "  [[-0.8941223 ]]\n",
            "\n",
            "  [[ 0.6302936 ]]]] \n",
            "\n",
            "Result/Feature Map with valid positions \n",
            "\n",
            "[[[[ 1.0552084 ]\n",
            "   [-3.0929654 ]\n",
            "   [ 5.100532  ]\n",
            "   [ 1.5729622 ]\n",
            "   [-3.563586  ]\n",
            "   [ 1.1926426 ]\n",
            "   [-1.8395469 ]\n",
            "   [ 4.276867  ]]\n",
            "\n",
            "  [[ 3.487565  ]\n",
            "   [ 1.1090561 ]\n",
            "   [ 3.4185383 ]\n",
            "   [ 0.09397165]\n",
            "   [-2.4439237 ]\n",
            "   [ 2.2747824 ]\n",
            "   [-4.0787425 ]\n",
            "   [ 4.6891646 ]]\n",
            "\n",
            "  [[-0.20738323]\n",
            "   [ 2.9679577 ]\n",
            "   [-2.6293664 ]\n",
            "   [-3.6829696 ]\n",
            "   [-2.2087657 ]\n",
            "   [ 1.5547265 ]\n",
            "   [ 1.5566368 ]\n",
            "   [-0.07009076]]\n",
            "\n",
            "  [[-0.90711606]\n",
            "   [ 2.7936974 ]\n",
            "   [ 3.1256626 ]\n",
            "   [-3.7929804 ]\n",
            "   [-5.785664  ]\n",
            "   [ 1.8334632 ]\n",
            "   [ 0.56670034]\n",
            "   [ 2.14749   ]]\n",
            "\n",
            "  [[-2.4960442 ]\n",
            "   [ 1.5554892 ]\n",
            "   [ 0.8638969 ]\n",
            "   [-1.8658319 ]\n",
            "   [-5.5273623 ]\n",
            "   [-3.7582655 ]\n",
            "   [ 1.2340682 ]\n",
            "   [ 1.5188836 ]]\n",
            "\n",
            "  [[-1.6438556 ]\n",
            "   [ 2.1535778 ]\n",
            "   [ 2.0175931 ]\n",
            "   [-6.0056996 ]\n",
            "   [ 0.12184715]\n",
            "   [-2.4970334 ]\n",
            "   [ 0.5475954 ]\n",
            "   [ 1.4882356 ]]\n",
            "\n",
            "  [[-0.2618738 ]\n",
            "   [ 1.7542689 ]\n",
            "   [-2.6857567 ]\n",
            "   [-4.497625  ]\n",
            "   [ 3.106411  ]\n",
            "   [ 5.745742  ]\n",
            "   [ 1.0474828 ]\n",
            "   [-0.5864643 ]]\n",
            "\n",
            "  [[ 0.9356207 ]\n",
            "   [ 0.5271585 ]\n",
            "   [-0.51258   ]\n",
            "   [-2.524556  ]\n",
            "   [ 0.2804376 ]\n",
            "   [ 7.414116  ]\n",
            "   [ 0.7345913 ]\n",
            "   [-2.0518138 ]]]]\n",
            "\n",
            "\n",
            "Result/Feature Map with padding \n",
            "\n",
            "[[[[-2.2392137 ]\n",
            "   [ 2.9131866 ]\n",
            "   [-2.1777816 ]\n",
            "   [ 1.9149352 ]\n",
            "   [ 4.036771  ]\n",
            "   [-7.5282593 ]\n",
            "   [-0.04326573]\n",
            "   [ 4.7659006 ]\n",
            "   [-1.034911  ]\n",
            "   [-0.07572317]]\n",
            "\n",
            "  [[ 0.6614188 ]\n",
            "   [ 1.0552084 ]\n",
            "   [-3.0929654 ]\n",
            "   [ 5.100532  ]\n",
            "   [ 1.5729622 ]\n",
            "   [-3.563586  ]\n",
            "   [ 1.1926426 ]\n",
            "   [-1.8395469 ]\n",
            "   [ 4.276867  ]\n",
            "   [-0.77605134]]\n",
            "\n",
            "  [[ 2.99071   ]\n",
            "   [ 3.487565  ]\n",
            "   [ 1.1090561 ]\n",
            "   [ 3.4185383 ]\n",
            "   [ 0.09397165]\n",
            "   [-2.4439237 ]\n",
            "   [ 2.2747824 ]\n",
            "   [-4.0787425 ]\n",
            "   [ 4.6891646 ]\n",
            "   [ 2.5060587 ]]\n",
            "\n",
            "  [[ 5.3677387 ]\n",
            "   [-0.20738323]\n",
            "   [ 2.9679577 ]\n",
            "   [-2.6293664 ]\n",
            "   [-3.6829696 ]\n",
            "   [-2.2087657 ]\n",
            "   [ 1.5547265 ]\n",
            "   [ 1.5566368 ]\n",
            "   [-0.07009076]\n",
            "   [ 1.8375971 ]]\n",
            "\n",
            "  [[ 5.756475  ]\n",
            "   [-0.90711606]\n",
            "   [ 2.7936974 ]\n",
            "   [ 3.1256626 ]\n",
            "   [-3.7929804 ]\n",
            "   [-5.785664  ]\n",
            "   [ 1.8334632 ]\n",
            "   [ 0.56670034]\n",
            "   [ 2.14749   ]\n",
            "   [ 0.9971634 ]]\n",
            "\n",
            "  [[ 2.5493975 ]\n",
            "   [-2.4960442 ]\n",
            "   [ 1.5554892 ]\n",
            "   [ 0.8638969 ]\n",
            "   [-1.8658319 ]\n",
            "   [-5.5273623 ]\n",
            "   [-3.7582655 ]\n",
            "   [ 1.2340682 ]\n",
            "   [ 1.5188836 ]\n",
            "   [ 0.9704287 ]]\n",
            "\n",
            "  [[-2.9402199 ]\n",
            "   [-1.6438556 ]\n",
            "   [ 2.1535778 ]\n",
            "   [ 2.0175931 ]\n",
            "   [-6.0056996 ]\n",
            "   [ 0.12184715]\n",
            "   [-2.4970334 ]\n",
            "   [ 0.5475954 ]\n",
            "   [ 1.4882356 ]\n",
            "   [-0.6672978 ]]\n",
            "\n",
            "  [[-4.5301757 ]\n",
            "   [-0.2618738 ]\n",
            "   [ 1.7542689 ]\n",
            "   [-2.6857567 ]\n",
            "   [-4.497625  ]\n",
            "   [ 3.106411  ]\n",
            "   [ 5.745742  ]\n",
            "   [ 1.0474828 ]\n",
            "   [-0.5864643 ]\n",
            "   [-0.31281406]]\n",
            "\n",
            "  [[-2.3791952 ]\n",
            "   [ 0.9356207 ]\n",
            "   [ 0.5271585 ]\n",
            "   [-0.51258   ]\n",
            "   [-2.524556  ]\n",
            "   [ 0.2804376 ]\n",
            "   [ 7.414116  ]\n",
            "   [ 0.7345913 ]\n",
            "   [-2.0518138 ]\n",
            "   [ 1.439014  ]]\n",
            "\n",
            "  [[ 1.1609728 ]\n",
            "   [ 1.8908187 ]\n",
            "   [-2.3807583 ]\n",
            "   [ 0.51830137]\n",
            "   [-0.855953  ]\n",
            "   [ 0.5427873 ]\n",
            "   [ 3.611957  ]\n",
            "   [ 0.9476376 ]\n",
            "   [-1.7853667 ]\n",
            "   [ 1.7609465 ]]]]\n"
          ],
          "name": "stdout"
        }
      ]
    },
    {
      "metadata": {
        "id": "BXA5wGgIMN3P",
        "colab_type": "code",
        "outputId": "006eb668-4048-4d1a-f815-6d436faafa9a",
        "colab": {
          "base_uri": "https://localhost:8080/",
          "height": 34
        }
      },
      "cell_type": "code",
      "source": [
        "input.shape"
      ],
      "execution_count": 0,
      "outputs": [
        {
          "output_type": "execute_result",
          "data": {
            "text/plain": [
              "TensorShape([Dimension(1), Dimension(10), Dimension(10), Dimension(1)])"
            ]
          },
          "metadata": {
            "tags": []
          },
          "execution_count": 126
        }
      ]
    },
    {
      "metadata": {
        "id": "yHD9OZDvL-K-",
        "colab_type": "code",
        "outputId": "1f2f32d6-af0a-4636-99be-cc74efffb92c",
        "colab": {
          "base_uri": "https://localhost:8080/",
          "height": 34
        }
      },
      "cell_type": "code",
      "source": [
        "result2.shape"
      ],
      "execution_count": 0,
      "outputs": [
        {
          "output_type": "execute_result",
          "data": {
            "text/plain": [
              "(1, 10, 10, 1)"
            ]
          },
          "metadata": {
            "tags": []
          },
          "execution_count": 128
        }
      ]
    },
    {
      "metadata": {
        "id": "7Bo1iMp1MoCS",
        "colab_type": "code",
        "outputId": "dd248373-0196-443d-c995-ce4f5f380d5f",
        "colab": {
          "base_uri": "https://localhost:8080/",
          "height": 34
        }
      },
      "cell_type": "code",
      "source": [
        "filter.shape\n"
      ],
      "execution_count": 0,
      "outputs": [
        {
          "output_type": "execute_result",
          "data": {
            "text/plain": [
              "TensorShape([Dimension(3), Dimension(3), Dimension(1), Dimension(1)])"
            ]
          },
          "metadata": {
            "tags": []
          },
          "execution_count": 129
        }
      ]
    },
    {
      "metadata": {
        "id": "Ewa0yVH4NIok",
        "colab_type": "code",
        "colab": {
          "base_uri": "https://localhost:8080/",
          "height": 34
        },
        "outputId": "0f19d530-f9f1-454b-b015-b3790e37e22f"
      },
      "cell_type": "code",
      "source": [
        "import tensorflow as tf\n",
        "tf.__version__"
      ],
      "execution_count": 51,
      "outputs": [
        {
          "output_type": "execute_result",
          "data": {
            "text/plain": [
              "'1.12.0'"
            ]
          },
          "metadata": {
            "tags": []
          },
          "execution_count": 51
        }
      ]
    },
    {
      "metadata": {
        "id": "rew3Sjn1vo84",
        "colab_type": "code",
        "colab": {
          "base_uri": "https://localhost:8080/",
          "height": 530
        },
        "outputId": "6189f021-6972-44fc-eb64-f3f80be1c401"
      },
      "cell_type": "code",
      "source": [
        "from tensorflow.examples.tutorials.mnist import input_data\n",
        "mnist = input_data.read_data_sets(\"MNIST_data/\", one_hot=True)"
      ],
      "execution_count": 52,
      "outputs": [
        {
          "output_type": "stream",
          "text": [
            "WARNING:tensorflow:From <ipython-input-52-8bf8ae5a5303>:2: read_data_sets (from tensorflow.contrib.learn.python.learn.datasets.mnist) is deprecated and will be removed in a future version.\n",
            "Instructions for updating:\n",
            "Please use alternatives such as official/mnist/dataset.py from tensorflow/models.\n",
            "WARNING:tensorflow:From /usr/local/lib/python2.7/dist-packages/tensorflow/contrib/learn/python/learn/datasets/mnist.py:260: maybe_download (from tensorflow.contrib.learn.python.learn.datasets.base) is deprecated and will be removed in a future version.\n",
            "Instructions for updating:\n",
            "Please write your own downloading logic.\n",
            "WARNING:tensorflow:From /usr/local/lib/python2.7/dist-packages/tensorflow/contrib/learn/python/learn/datasets/base.py:252: wrapped_fn (from tensorflow.contrib.learn.python.learn.datasets.base) is deprecated and will be removed in a future version.\n",
            "Instructions for updating:\n",
            "Please use urllib or similar directly.\n",
            "Successfully downloaded train-images-idx3-ubyte.gz 9912422 bytes.\n",
            "WARNING:tensorflow:From /usr/local/lib/python2.7/dist-packages/tensorflow/contrib/learn/python/learn/datasets/mnist.py:262: extract_images (from tensorflow.contrib.learn.python.learn.datasets.mnist) is deprecated and will be removed in a future version.\n",
            "Instructions for updating:\n",
            "Please use tf.data to implement this functionality.\n",
            "Extracting MNIST_data/train-images-idx3-ubyte.gz\n",
            "Successfully downloaded train-labels-idx1-ubyte.gz 28881 bytes.\n",
            "WARNING:tensorflow:From /usr/local/lib/python2.7/dist-packages/tensorflow/contrib/learn/python/learn/datasets/mnist.py:267: extract_labels (from tensorflow.contrib.learn.python.learn.datasets.mnist) is deprecated and will be removed in a future version.\n",
            "Instructions for updating:\n",
            "Please use tf.data to implement this functionality.\n",
            "Extracting MNIST_data/train-labels-idx1-ubyte.gz\n",
            "WARNING:tensorflow:From /usr/local/lib/python2.7/dist-packages/tensorflow/contrib/learn/python/learn/datasets/mnist.py:110: dense_to_one_hot (from tensorflow.contrib.learn.python.learn.datasets.mnist) is deprecated and will be removed in a future version.\n",
            "Instructions for updating:\n",
            "Please use tf.one_hot on tensors.\n",
            "Successfully downloaded t10k-images-idx3-ubyte.gz 1648877 bytes.\n",
            "Extracting MNIST_data/t10k-images-idx3-ubyte.gz\n",
            "Successfully downloaded t10k-labels-idx1-ubyte.gz 4542 bytes.\n",
            "Extracting MNIST_data/t10k-labels-idx1-ubyte.gz\n",
            "WARNING:tensorflow:From /usr/local/lib/python2.7/dist-packages/tensorflow/contrib/learn/python/learn/datasets/mnist.py:290: __init__ (from tensorflow.contrib.learn.python.learn.datasets.mnist) is deprecated and will be removed in a future version.\n",
            "Instructions for updating:\n",
            "Please use alternatives such as official/mnist/dataset.py from tensorflow/models.\n"
          ],
          "name": "stdout"
        }
      ]
    },
    {
      "metadata": {
        "id": "epLAWOiIvsZw",
        "colab_type": "code",
        "colab": {
          "base_uri": "https://localhost:8080/",
          "height": 34
        },
        "outputId": "067ca3eb-e89c-471e-edda-f1acdd9e2ea0"
      },
      "cell_type": "code",
      "source": [
        "mnist[0]"
      ],
      "execution_count": 55,
      "outputs": [
        {
          "output_type": "execute_result",
          "data": {
            "text/plain": [
              "<tensorflow.contrib.learn.python.learn.datasets.mnist.DataSet at 0x7fd427642150>"
            ]
          },
          "metadata": {
            "tags": []
          },
          "execution_count": 55
        }
      ]
    },
    {
      "metadata": {
        "id": "KxQp_aGmvzb_",
        "colab_type": "code",
        "colab": {}
      },
      "cell_type": "code",
      "source": [
        "sess = tf.InteractiveSession()"
      ],
      "execution_count": 0,
      "outputs": []
    },
    {
      "metadata": {
        "id": "xgStkXJiwAU3",
        "colab_type": "code",
        "colab": {
          "base_uri": "https://localhost:8080/",
          "height": 34
        },
        "outputId": "fd22a6ac-db2c-4ce0-a264-5a54d758c21d"
      },
      "cell_type": "code",
      "source": [
        "sess"
      ],
      "execution_count": 57,
      "outputs": [
        {
          "output_type": "execute_result",
          "data": {
            "text/plain": [
              "<tensorflow.python.client.session.InteractiveSession at 0x7fd42c5f7dd0>"
            ]
          },
          "metadata": {
            "tags": []
          },
          "execution_count": 57
        }
      ]
    },
    {
      "metadata": {
        "id": "m44adqO7wBJm",
        "colab_type": "code",
        "colab": {
          "base_uri": "https://localhost:8080/",
          "height": 2686
        },
        "outputId": "0abb64c6-5b1b-4de1-9d59-5fe33cd4267d"
      },
      "cell_type": "code",
      "source": [
        "mnist.train.images[2000,:]"
      ],
      "execution_count": 93,
      "outputs": [
        {
          "output_type": "execute_result",
          "data": {
            "text/plain": [
              "array([0.        , 0.        , 0.        , 0.        , 0.        ,\n",
              "       0.        , 0.        , 0.        , 0.        , 0.        ,\n",
              "       0.        , 0.        , 0.        , 0.        , 0.        ,\n",
              "       0.        , 0.        , 0.        , 0.        , 0.        ,\n",
              "       0.        , 0.        , 0.        , 0.        , 0.        ,\n",
              "       0.        , 0.        , 0.        , 0.        , 0.        ,\n",
              "       0.        , 0.        , 0.        , 0.        , 0.        ,\n",
              "       0.        , 0.        , 0.        , 0.        , 0.        ,\n",
              "       0.        , 0.        , 0.        , 0.        , 0.        ,\n",
              "       0.        , 0.        , 0.        , 0.        , 0.        ,\n",
              "       0.        , 0.        , 0.        , 0.        , 0.        ,\n",
              "       0.        , 0.        , 0.        , 0.        , 0.        ,\n",
              "       0.        , 0.        , 0.        , 0.        , 0.        ,\n",
              "       0.        , 0.        , 0.        , 0.        , 0.        ,\n",
              "       0.        , 0.        , 0.        , 0.        , 0.        ,\n",
              "       0.        , 0.        , 0.        , 0.        , 0.        ,\n",
              "       0.        , 0.        , 0.        , 0.        , 0.        ,\n",
              "       0.        , 0.        , 0.        , 0.        , 0.        ,\n",
              "       0.        , 0.        , 0.        , 0.        , 0.        ,\n",
              "       0.        , 0.        , 0.        , 0.        , 0.        ,\n",
              "       0.        , 0.        , 0.        , 0.        , 0.        ,\n",
              "       0.        , 0.        , 0.        , 0.        , 0.        ,\n",
              "       0.        , 0.        , 0.        , 0.        , 0.        ,\n",
              "       0.        , 0.        , 0.        , 0.        , 0.        ,\n",
              "       0.        , 0.        , 0.        , 0.        , 0.        ,\n",
              "       0.        , 0.        , 0.        , 0.        , 0.        ,\n",
              "       0.        , 0.        , 0.        , 0.        , 0.        ,\n",
              "       0.        , 0.        , 0.        , 0.        , 0.        ,\n",
              "       0.        , 0.        , 0.        , 0.        , 0.        ,\n",
              "       0.        , 0.        , 0.        , 0.        , 0.        ,\n",
              "       0.        , 0.        , 0.        , 0.        , 0.        ,\n",
              "       0.        , 0.        , 0.        , 0.        , 0.        ,\n",
              "       0.        , 0.        , 0.        , 0.        , 0.        ,\n",
              "       0.        , 0.        , 0.        , 0.        , 0.        ,\n",
              "       0.        , 0.        , 0.        , 0.        , 0.        ,\n",
              "       0.        , 0.        , 0.        , 0.        , 0.        ,\n",
              "       0.        , 0.        , 0.        , 0.        , 0.        ,\n",
              "       0.        , 0.        , 0.        , 0.        , 0.        ,\n",
              "       0.        , 0.        , 0.        , 0.        , 0.        ,\n",
              "       0.        , 0.        , 0.        , 0.        , 0.        ,\n",
              "       0.        , 0.        , 0.        , 0.        , 0.        ,\n",
              "       0.31764707, 0.46274513, 0.46274513, 0.2627451 , 0.25490198,\n",
              "       0.3803922 , 0.46274513, 0.5176471 , 0.98823535, 0.46274513,\n",
              "       0.46274513, 0.46274513, 0.34901962, 0.        , 0.        ,\n",
              "       0.        , 0.        , 0.        , 0.        , 0.        ,\n",
              "       0.        , 0.        , 0.        , 0.        , 0.        ,\n",
              "       0.        , 0.        , 0.40784317, 0.9725491 , 0.9960785 ,\n",
              "       0.9960785 , 0.96470594, 0.96470594, 0.9843138 , 0.9960785 ,\n",
              "       0.9960785 , 0.9960785 , 0.9960785 , 0.9960785 , 0.9960785 ,\n",
              "       0.75294125, 0.        , 0.        , 0.        , 0.        ,\n",
              "       0.        , 0.        , 0.        , 0.        , 0.        ,\n",
              "       0.        , 0.        , 0.        , 0.        , 0.        ,\n",
              "       0.59607846, 0.9960785 , 0.9960785 , 0.9960785 , 0.9960785 ,\n",
              "       0.9960785 , 0.9960785 , 0.9960785 , 0.9960785 , 0.9960785 ,\n",
              "       0.9960785 , 0.9960785 , 0.90196085, 0.5294118 , 0.        ,\n",
              "       0.        , 0.        , 0.        , 0.        , 0.        ,\n",
              "       0.        , 0.        , 0.        , 0.        , 0.        ,\n",
              "       0.        , 0.        , 0.        , 0.05490196, 0.2392157 ,\n",
              "       0.56078434, 0.5019608 , 0.2392157 , 0.2392157 , 0.2392157 ,\n",
              "       0.28235295, 0.8078432 , 0.9960785 , 0.9960785 , 0.909804  ,\n",
              "       0.23529413, 0.        , 0.        , 0.        , 0.        ,\n",
              "       0.        , 0.        , 0.        , 0.        , 0.        ,\n",
              "       0.        , 0.        , 0.        , 0.        , 0.        ,\n",
              "       0.        , 0.        , 0.        , 0.        , 0.        ,\n",
              "       0.        , 0.        , 0.        , 0.26666668, 0.9960785 ,\n",
              "       0.9960785 , 0.9960785 , 0.22352943, 0.        , 0.        ,\n",
              "       0.        , 0.        , 0.        , 0.        , 0.        ,\n",
              "       0.        , 0.        , 0.        , 0.        , 0.        ,\n",
              "       0.        , 0.        , 0.        , 0.        , 0.        ,\n",
              "       0.        , 0.        , 0.        , 0.        , 0.        ,\n",
              "       0.01568628, 0.74509805, 0.9960785 , 0.9960785 , 0.6784314 ,\n",
              "       0.02352941, 0.        , 0.        , 0.        , 0.        ,\n",
              "       0.        , 0.        , 0.        , 0.        , 0.        ,\n",
              "       0.        , 0.        , 0.        , 0.        , 0.        ,\n",
              "       0.        , 0.        , 0.        , 0.        , 0.        ,\n",
              "       0.        , 0.        , 0.        , 0.54901963, 0.9960785 ,\n",
              "       0.9960785 , 0.6901961 , 0.        , 0.        , 0.        ,\n",
              "       0.        , 0.        , 0.        , 0.        , 0.        ,\n",
              "       0.        , 0.        , 0.        , 0.        , 0.        ,\n",
              "       0.        , 0.        , 0.        , 0.        , 0.        ,\n",
              "       0.        , 0.        , 0.        , 0.        , 0.        ,\n",
              "       0.15686275, 0.8941177 , 0.9960785 , 0.9490197 , 0.24313727,\n",
              "       0.        , 0.        , 0.        , 0.        , 0.        ,\n",
              "       0.        , 0.        , 0.        , 0.        , 0.        ,\n",
              "       0.        , 0.        , 0.        , 0.        , 0.        ,\n",
              "       0.        , 0.        , 0.        , 0.        , 0.        ,\n",
              "       0.        , 0.        , 0.        , 0.54509807, 0.9960785 ,\n",
              "       0.9960785 , 0.69803923, 0.        , 0.        , 0.        ,\n",
              "       0.        , 0.        , 0.        , 0.        , 0.        ,\n",
              "       0.        , 0.        , 0.        , 0.        , 0.        ,\n",
              "       0.        , 0.        , 0.        , 0.        , 0.        ,\n",
              "       0.        , 0.        , 0.        , 0.        , 0.        ,\n",
              "       0.35686275, 0.9803922 , 0.9960785 , 0.8431373 , 0.06666667,\n",
              "       0.        , 0.        , 0.        , 0.        , 0.        ,\n",
              "       0.        , 0.        , 0.        , 0.        , 0.        ,\n",
              "       0.        , 0.        , 0.        , 0.        , 0.        ,\n",
              "       0.        , 0.        , 0.        , 0.        , 0.        ,\n",
              "       0.        , 0.        , 0.        , 0.43529415, 0.9960785 ,\n",
              "       0.9960785 , 0.7058824 , 0.        , 0.        , 0.        ,\n",
              "       0.        , 0.        , 0.        , 0.        , 0.        ,\n",
              "       0.        , 0.        , 0.        , 0.        , 0.        ,\n",
              "       0.        , 0.        , 0.        , 0.        , 0.        ,\n",
              "       0.        , 0.        , 0.        , 0.        , 0.        ,\n",
              "       0.05882353, 0.78823537, 0.9960785 , 0.7607844 , 0.09411766,\n",
              "       0.        , 0.        , 0.        , 0.        , 0.        ,\n",
              "       0.        , 0.        , 0.        , 0.        , 0.        ,\n",
              "       0.        , 0.        , 0.        , 0.        , 0.        ,\n",
              "       0.        , 0.        , 0.        , 0.        , 0.        ,\n",
              "       0.        , 0.        , 0.00392157, 0.5294118 , 0.9960785 ,\n",
              "       0.9960785 , 0.18823531, 0.        , 0.        , 0.        ,\n",
              "       0.        , 0.        , 0.        , 0.        , 0.        ,\n",
              "       0.        , 0.        , 0.        , 0.        , 0.        ,\n",
              "       0.        , 0.        , 0.        , 0.        , 0.        ,\n",
              "       0.        , 0.        , 0.        , 0.        , 0.        ,\n",
              "       0.05490196, 0.9960785 , 0.9960785 , 0.8235295 , 0.09803922,\n",
              "       0.        , 0.        , 0.        , 0.        , 0.        ,\n",
              "       0.        , 0.        , 0.        , 0.        , 0.        ,\n",
              "       0.        , 0.        , 0.        , 0.        , 0.        ,\n",
              "       0.        , 0.        , 0.        , 0.        , 0.        ,\n",
              "       0.        , 0.        , 0.        , 0.2784314 , 0.9960785 ,\n",
              "       0.9960785 , 0.427451  , 0.        , 0.        , 0.        ,\n",
              "       0.        , 0.        , 0.        , 0.        , 0.        ,\n",
              "       0.        , 0.        , 0.        , 0.        , 0.        ,\n",
              "       0.        , 0.        , 0.        , 0.        , 0.        ,\n",
              "       0.        , 0.        , 0.        , 0.        , 0.        ,\n",
              "       0.12156864, 0.9450981 , 0.9960785 , 0.854902  , 0.07058824,\n",
              "       0.        , 0.        , 0.        , 0.        , 0.        ,\n",
              "       0.        , 0.        , 0.        , 0.        , 0.        ,\n",
              "       0.        , 0.        , 0.        , 0.        , 0.        ,\n",
              "       0.        , 0.        , 0.        , 0.        , 0.        ,\n",
              "       0.        , 0.        , 0.        , 0.56078434, 0.9960785 ,\n",
              "       0.9960785 , 0.5647059 , 0.        , 0.        , 0.        ,\n",
              "       0.        , 0.        , 0.        , 0.        , 0.        ,\n",
              "       0.        , 0.        , 0.        , 0.        , 0.        ,\n",
              "       0.        , 0.        , 0.        , 0.        , 0.        ,\n",
              "       0.        , 0.        , 0.        , 0.        , 0.        ,\n",
              "       0.        , 0.6784314 , 0.9960785 , 0.9960785 , 0.5647059 ,\n",
              "       0.        , 0.        , 0.        , 0.        , 0.        ,\n",
              "       0.        , 0.        , 0.        , 0.        , 0.        ,\n",
              "       0.        , 0.        , 0.        , 0.        , 0.        ,\n",
              "       0.        , 0.        , 0.        , 0.        , 0.        ,\n",
              "       0.        , 0.        , 0.        , 0.        , 0.6784314 ,\n",
              "       0.9960785 , 0.9960785 , 0.5176471 , 0.        , 0.        ,\n",
              "       0.        , 0.        , 0.        , 0.        , 0.        ,\n",
              "       0.        , 0.        , 0.        , 0.        , 0.        ,\n",
              "       0.        , 0.        , 0.        , 0.        , 0.        ,\n",
              "       0.        , 0.        , 0.        , 0.        , 0.        ,\n",
              "       0.        , 0.        , 0.38431376, 0.9960785 , 0.7176471 ,\n",
              "       0.01176471, 0.        , 0.        , 0.        , 0.        ,\n",
              "       0.        , 0.        , 0.        , 0.        , 0.        ,\n",
              "       0.        , 0.        , 0.        , 0.        , 0.        ,\n",
              "       0.        , 0.        , 0.        , 0.        , 0.        ,\n",
              "       0.        , 0.        , 0.        , 0.        , 0.        ,\n",
              "       0.        , 0.        , 0.        , 0.        , 0.        ,\n",
              "       0.        , 0.        , 0.        , 0.        , 0.        ,\n",
              "       0.        , 0.        , 0.        , 0.        , 0.        ,\n",
              "       0.        , 0.        , 0.        , 0.        ], dtype=float32)"
            ]
          },
          "metadata": {
            "tags": []
          },
          "execution_count": 93
        }
      ]
    },
    {
      "metadata": {
        "id": "E-tyKcAewTpR",
        "colab_type": "code",
        "colab": {}
      },
      "cell_type": "code",
      "source": [
        "x  = tf.placeholder(tf.float32, shape=[None, 784])\n",
        "y_ = tf.placeholder(tf.float32, shape=[None, 10])"
      ],
      "execution_count": 0,
      "outputs": []
    },
    {
      "metadata": {
        "id": "zYSRxJUXwgT0",
        "colab_type": "code",
        "colab": {
          "base_uri": "https://localhost:8080/",
          "height": 34
        },
        "outputId": "deb6e8a9-d3ff-4529-fe96-77e819601340"
      },
      "cell_type": "code",
      "source": [
        "x"
      ],
      "execution_count": 64,
      "outputs": [
        {
          "output_type": "execute_result",
          "data": {
            "text/plain": [
              "<tf.Tensor 'Placeholder_4:0' shape=(?, 784) dtype=float32>"
            ]
          },
          "metadata": {
            "tags": []
          },
          "execution_count": 64
        }
      ]
    },
    {
      "metadata": {
        "id": "-N-dvg_Bwg7D",
        "colab_type": "code",
        "colab": {
          "base_uri": "https://localhost:8080/",
          "height": 34
        },
        "outputId": "841d16f3-30c4-40d3-cbe2-2e7e6487d8f0"
      },
      "cell_type": "code",
      "source": [
        "y_"
      ],
      "execution_count": 65,
      "outputs": [
        {
          "output_type": "execute_result",
          "data": {
            "text/plain": [
              "<tf.Tensor 'Placeholder_5:0' shape=(?, 10) dtype=float32>"
            ]
          },
          "metadata": {
            "tags": []
          },
          "execution_count": 65
        }
      ]
    },
    {
      "metadata": {
        "id": "mPRSRKnIwjXT",
        "colab_type": "code",
        "colab": {}
      },
      "cell_type": "code",
      "source": [
        "# Weight tensor\n",
        "W = tf.Variable(tf.zeros([784,10],tf.float32))\n",
        "# Bias tensor\n",
        "b = tf.Variable(tf.zeros([10],tf.float32))"
      ],
      "execution_count": 0,
      "outputs": []
    },
    {
      "metadata": {
        "id": "Ecp31exCwlMD",
        "colab_type": "code",
        "colab": {
          "base_uri": "https://localhost:8080/",
          "height": 34
        },
        "outputId": "4d2b7ed4-41f7-432f-dc54-457adb7c8759"
      },
      "cell_type": "code",
      "source": [
        "W.shape"
      ],
      "execution_count": 95,
      "outputs": [
        {
          "output_type": "execute_result",
          "data": {
            "text/plain": [
              "TensorShape([Dimension(784), Dimension(10)])"
            ]
          },
          "metadata": {
            "tags": []
          },
          "execution_count": 95
        }
      ]
    },
    {
      "metadata": {
        "id": "-p7ipvj0wmPc",
        "colab_type": "code",
        "colab": {
          "base_uri": "https://localhost:8080/",
          "height": 34
        },
        "outputId": "694866e4-a82e-48ca-d800-4da3065b63d8"
      },
      "cell_type": "code",
      "source": [
        "b"
      ],
      "execution_count": 68,
      "outputs": [
        {
          "output_type": "execute_result",
          "data": {
            "text/plain": [
              "<tf.Variable 'Variable_11:0' shape=(10,) dtype=float32_ref>"
            ]
          },
          "metadata": {
            "tags": []
          },
          "execution_count": 68
        }
      ]
    },
    {
      "metadata": {
        "id": "vE_Y7-7Iwm3b",
        "colab_type": "code",
        "colab": {
          "base_uri": "https://localhost:8080/",
          "height": 34
        },
        "outputId": "e50da83f-6ccc-43db-96eb-435678069f0b"
      },
      "cell_type": "code",
      "source": [
        "W"
      ],
      "execution_count": 69,
      "outputs": [
        {
          "output_type": "execute_result",
          "data": {
            "text/plain": [
              "<tf.Variable 'Variable_10:0' shape=(784, 10) dtype=float32_ref>"
            ]
          },
          "metadata": {
            "tags": []
          },
          "execution_count": 69
        }
      ]
    },
    {
      "metadata": {
        "id": "G_scVsMZwp5r",
        "colab_type": "code",
        "colab": {
          "base_uri": "https://localhost:8080/",
          "height": 34
        },
        "outputId": "fa0f597e-1602-41c4-ccfe-c0dfb971ae8b"
      },
      "cell_type": "code",
      "source": [
        "W[1:]"
      ],
      "execution_count": 71,
      "outputs": [
        {
          "output_type": "execute_result",
          "data": {
            "text/plain": [
              "<tf.Tensor 'strided_slice_1:0' shape=(783, 10) dtype=float32>"
            ]
          },
          "metadata": {
            "tags": []
          },
          "execution_count": 71
        }
      ]
    },
    {
      "metadata": {
        "id": "G4Ekd63IwrQb",
        "colab_type": "code",
        "colab": {}
      },
      "cell_type": "code",
      "source": [
        "# run the op initialize_all_variables using an interactive session\n",
        "sess.run(tf.global_variables_initializer())"
      ],
      "execution_count": 0,
      "outputs": []
    },
    {
      "metadata": {
        "id": "8eaSYcLFw0vX",
        "colab_type": "code",
        "colab": {
          "base_uri": "https://localhost:8080/",
          "height": 34
        },
        "outputId": "c73ae7e4-2d2e-4a6f-bd8d-05e0c59a7ba1"
      },
      "cell_type": "code",
      "source": [
        "W"
      ],
      "execution_count": 73,
      "outputs": [
        {
          "output_type": "execute_result",
          "data": {
            "text/plain": [
              "<tf.Variable 'Variable_10:0' shape=(784, 10) dtype=float32_ref>"
            ]
          },
          "metadata": {
            "tags": []
          },
          "execution_count": 73
        }
      ]
    },
    {
      "metadata": {
        "id": "LY38yY12w1jf",
        "colab_type": "code",
        "colab": {
          "base_uri": "https://localhost:8080/",
          "height": 34
        },
        "outputId": "0b5a9985-95df-41c5-b22f-4527d1f8fbd9"
      },
      "cell_type": "code",
      "source": [
        "x.shape"
      ],
      "execution_count": 74,
      "outputs": [
        {
          "output_type": "execute_result",
          "data": {
            "text/plain": [
              "TensorShape([Dimension(None), Dimension(784)])"
            ]
          },
          "metadata": {
            "tags": []
          },
          "execution_count": 74
        }
      ]
    },
    {
      "metadata": {
        "id": "R88Zoe39w6dg",
        "colab_type": "code",
        "colab": {
          "base_uri": "https://localhost:8080/",
          "height": 34
        },
        "outputId": "42d7955d-b4b5-4651-be75-1152cda9fbbe"
      },
      "cell_type": "code",
      "source": [
        "W.shape"
      ],
      "execution_count": 75,
      "outputs": [
        {
          "output_type": "execute_result",
          "data": {
            "text/plain": [
              "TensorShape([Dimension(784), Dimension(10)])"
            ]
          },
          "metadata": {
            "tags": []
          },
          "execution_count": 75
        }
      ]
    },
    {
      "metadata": {
        "id": "1HlDYejsw7QZ",
        "colab_type": "code",
        "colab": {
          "base_uri": "https://localhost:8080/",
          "height": 34
        },
        "outputId": "d686a482-93e0-45d9-f83d-99203451ec87"
      },
      "cell_type": "code",
      "source": [
        "b.shape"
      ],
      "execution_count": 76,
      "outputs": [
        {
          "output_type": "execute_result",
          "data": {
            "text/plain": [
              "TensorShape([Dimension(10)])"
            ]
          },
          "metadata": {
            "tags": []
          },
          "execution_count": 76
        }
      ]
    },
    {
      "metadata": {
        "id": "67fIDv40w8ZR",
        "colab_type": "code",
        "colab": {}
      },
      "cell_type": "code",
      "source": [
        "aa = tf.matmul(x,W) + b"
      ],
      "execution_count": 0,
      "outputs": []
    },
    {
      "metadata": {
        "id": "UztVusykxGzE",
        "colab_type": "code",
        "colab": {
          "base_uri": "https://localhost:8080/",
          "height": 34
        },
        "outputId": "b11d8a3e-d315-4b78-e7ad-628727e4610c"
      },
      "cell_type": "code",
      "source": [
        "aa"
      ],
      "execution_count": 79,
      "outputs": [
        {
          "output_type": "execute_result",
          "data": {
            "text/plain": [
              "<tf.Tensor 'add_4:0' shape=(?, 10) dtype=float32>"
            ]
          },
          "metadata": {
            "tags": []
          },
          "execution_count": 79
        }
      ]
    },
    {
      "metadata": {
        "id": "XiC_bTnNxJIE",
        "colab_type": "code",
        "colab": {
          "base_uri": "https://localhost:8080/",
          "height": 34
        },
        "outputId": "a056a0a0-5a7e-4326-9df2-ecbdb6df6384"
      },
      "cell_type": "code",
      "source": [
        "aa.shape"
      ],
      "execution_count": 80,
      "outputs": [
        {
          "output_type": "execute_result",
          "data": {
            "text/plain": [
              "TensorShape([Dimension(None), Dimension(10)])"
            ]
          },
          "metadata": {
            "tags": []
          },
          "execution_count": 80
        }
      ]
    },
    {
      "metadata": {
        "id": "PGt1fPCoxKRs",
        "colab_type": "code",
        "colab": {}
      },
      "cell_type": "code",
      "source": [
        "y = tf.nn.softmax(tf.matmul(x,W) + b)"
      ],
      "execution_count": 0,
      "outputs": []
    },
    {
      "metadata": {
        "id": "URYOqPrQxoLW",
        "colab_type": "code",
        "colab": {
          "base_uri": "https://localhost:8080/",
          "height": 34
        },
        "outputId": "4fb578cc-068f-45bb-bf2f-5b8a6fea0511"
      },
      "cell_type": "code",
      "source": [
        "y"
      ],
      "execution_count": 82,
      "outputs": [
        {
          "output_type": "execute_result",
          "data": {
            "text/plain": [
              "<tf.Tensor 'Softmax:0' shape=(?, 10) dtype=float32>"
            ]
          },
          "metadata": {
            "tags": []
          },
          "execution_count": 82
        }
      ]
    },
    {
      "metadata": {
        "id": "dbETetrmxol2",
        "colab_type": "code",
        "colab": {}
      },
      "cell_type": "code",
      "source": [
        "cross_entropy = tf.reduce_mean(-tf.reduce_sum(y_ * tf.log(y), reduction_indices=[1]))"
      ],
      "execution_count": 0,
      "outputs": []
    },
    {
      "metadata": {
        "id": "yx0iyJelxrl2",
        "colab_type": "code",
        "colab": {}
      },
      "cell_type": "code",
      "source": [
        "aa = tf.reduce_sum([1,2,3,4])"
      ],
      "execution_count": 0,
      "outputs": []
    },
    {
      "metadata": {
        "id": "vd5RgB-kx1xn",
        "colab_type": "code",
        "colab": {}
      },
      "cell_type": "code",
      "source": [
        "train_step = tf.train.GradientDescentOptimizer(0.5).minimize(cross_entropy)"
      ],
      "execution_count": 0,
      "outputs": []
    },
    {
      "metadata": {
        "id": "wLP5qtQpx71n",
        "colab_type": "code",
        "colab": {}
      },
      "cell_type": "code",
      "source": [
        "#Load 50 training examples for each training iteration   \n",
        "for i in range(1000):\n",
        "    batch = mnist.train.next_batch(50)\n",
        "    train_step.run(feed_dict={x: batch[0], y_: batch[1]})"
      ],
      "execution_count": 0,
      "outputs": []
    },
    {
      "metadata": {
        "id": "BxvOV9lEyPXi",
        "colab_type": "code",
        "colab": {
          "base_uri": "https://localhost:8080/",
          "height": 986
        },
        "outputId": "f968f9da-9862-49b6-9485-7b22a1509863"
      },
      "cell_type": "code",
      "source": [
        "batch"
      ],
      "execution_count": 97,
      "outputs": [
        {
          "output_type": "execute_result",
          "data": {
            "text/plain": [
              "(array([[0., 0., 0., ..., 0., 0., 0.],\n",
              "        [0., 0., 0., ..., 0., 0., 0.],\n",
              "        [0., 0., 0., ..., 0., 0., 0.],\n",
              "        ...,\n",
              "        [0., 0., 0., ..., 0., 0., 0.],\n",
              "        [0., 0., 0., ..., 0., 0., 0.],\n",
              "        [0., 0., 0., ..., 0., 0., 0.]], dtype=float32),\n",
              " array([[0., 0., 0., 1., 0., 0., 0., 0., 0., 0.],\n",
              "        [0., 0., 0., 1., 0., 0., 0., 0., 0., 0.],\n",
              "        [0., 0., 0., 0., 1., 0., 0., 0., 0., 0.],\n",
              "        [1., 0., 0., 0., 0., 0., 0., 0., 0., 0.],\n",
              "        [0., 0., 0., 1., 0., 0., 0., 0., 0., 0.],\n",
              "        [0., 0., 0., 0., 0., 0., 0., 0., 1., 0.],\n",
              "        [0., 0., 0., 0., 0., 1., 0., 0., 0., 0.],\n",
              "        [0., 0., 0., 0., 0., 0., 1., 0., 0., 0.],\n",
              "        [0., 1., 0., 0., 0., 0., 0., 0., 0., 0.],\n",
              "        [0., 0., 0., 1., 0., 0., 0., 0., 0., 0.],\n",
              "        [0., 0., 0., 0., 0., 1., 0., 0., 0., 0.],\n",
              "        [0., 1., 0., 0., 0., 0., 0., 0., 0., 0.],\n",
              "        [0., 0., 0., 0., 0., 0., 0., 0., 1., 0.],\n",
              "        [0., 1., 0., 0., 0., 0., 0., 0., 0., 0.],\n",
              "        [0., 0., 0., 0., 0., 0., 0., 0., 1., 0.],\n",
              "        [0., 1., 0., 0., 0., 0., 0., 0., 0., 0.],\n",
              "        [1., 0., 0., 0., 0., 0., 0., 0., 0., 0.],\n",
              "        [1., 0., 0., 0., 0., 0., 0., 0., 0., 0.],\n",
              "        [1., 0., 0., 0., 0., 0., 0., 0., 0., 0.],\n",
              "        [0., 0., 0., 0., 0., 0., 0., 1., 0., 0.],\n",
              "        [0., 0., 0., 0., 1., 0., 0., 0., 0., 0.],\n",
              "        [0., 1., 0., 0., 0., 0., 0., 0., 0., 0.],\n",
              "        [0., 0., 1., 0., 0., 0., 0., 0., 0., 0.],\n",
              "        [1., 0., 0., 0., 0., 0., 0., 0., 0., 0.],\n",
              "        [0., 0., 0., 0., 0., 0., 0., 0., 0., 1.],\n",
              "        [0., 0., 0., 1., 0., 0., 0., 0., 0., 0.],\n",
              "        [1., 0., 0., 0., 0., 0., 0., 0., 0., 0.],\n",
              "        [0., 0., 0., 0., 0., 0., 0., 0., 1., 0.],\n",
              "        [0., 0., 0., 0., 0., 0., 0., 0., 0., 1.],\n",
              "        [0., 0., 0., 1., 0., 0., 0., 0., 0., 0.],\n",
              "        [0., 0., 0., 0., 1., 0., 0., 0., 0., 0.],\n",
              "        [0., 0., 0., 0., 0., 0., 0., 1., 0., 0.],\n",
              "        [0., 1., 0., 0., 0., 0., 0., 0., 0., 0.],\n",
              "        [0., 0., 0., 0., 0., 0., 0., 0., 1., 0.],\n",
              "        [1., 0., 0., 0., 0., 0., 0., 0., 0., 0.],\n",
              "        [0., 0., 1., 0., 0., 0., 0., 0., 0., 0.],\n",
              "        [0., 0., 0., 0., 1., 0., 0., 0., 0., 0.],\n",
              "        [0., 0., 0., 0., 1., 0., 0., 0., 0., 0.],\n",
              "        [0., 0., 0., 0., 0., 0., 0., 0., 1., 0.],\n",
              "        [0., 0., 0., 1., 0., 0., 0., 0., 0., 0.],\n",
              "        [0., 1., 0., 0., 0., 0., 0., 0., 0., 0.],\n",
              "        [0., 0., 0., 0., 0., 1., 0., 0., 0., 0.],\n",
              "        [0., 0., 0., 0., 0., 0., 0., 0., 1., 0.],\n",
              "        [0., 0., 0., 0., 0., 0., 0., 0., 1., 0.],\n",
              "        [0., 0., 0., 0., 0., 0., 0., 1., 0., 0.],\n",
              "        [1., 0., 0., 0., 0., 0., 0., 0., 0., 0.],\n",
              "        [0., 0., 0., 0., 0., 0., 0., 1., 0., 0.],\n",
              "        [0., 0., 0., 1., 0., 0., 0., 0., 0., 0.],\n",
              "        [0., 0., 0., 0., 0., 0., 0., 0., 1., 0.],\n",
              "        [0., 0., 0., 0., 1., 0., 0., 0., 0., 0.]]))"
            ]
          },
          "metadata": {
            "tags": []
          },
          "execution_count": 97
        }
      ]
    },
    {
      "metadata": {
        "id": "zsJLN9bLyt6B",
        "colab_type": "code",
        "colab": {
          "base_uri": "https://localhost:8080/",
          "height": 34
        },
        "outputId": "c764b720-6d6b-47c8-c3a3-5340f8b1972b"
      },
      "cell_type": "code",
      "source": [
        "batch[1].shape"
      ],
      "execution_count": 100,
      "outputs": [
        {
          "output_type": "execute_result",
          "data": {
            "text/plain": [
              "(50, 10)"
            ]
          },
          "metadata": {
            "tags": []
          },
          "execution_count": 100
        }
      ]
    },
    {
      "metadata": {
        "id": "s61S2XOmyyIb",
        "colab_type": "code",
        "colab": {}
      },
      "cell_type": "code",
      "source": [
        "#Load 50 training examples for each training iteration   \n",
        "for i in range(1000):\n",
        "    batch = mnist.train.next_batch(50)\n",
        "    train_step.run(feed_dict={x: batch[0], y_: batch[1]})"
      ],
      "execution_count": 0,
      "outputs": []
    },
    {
      "metadata": {
        "id": "44sqoFLHy3u0",
        "colab_type": "code",
        "colab": {
          "base_uri": "https://localhost:8080/",
          "height": 51
        },
        "outputId": "7665d9c9-2120-4bb4-8775-fd8d461bfdff"
      },
      "cell_type": "code",
      "source": [
        "correct_prediction = tf.equal(tf.argmax(y,1), tf.argmax(y_,1))\n",
        "accuracy = tf.reduce_mean(tf.cast(correct_prediction, tf.float32))\n",
        "acc = accuracy.eval(feed_dict={x: mnist.test.images, y_: mnist.test.labels}) * 100\n",
        "print(\"The final accuracy for the simple ANN model is: {} % \".format(acc) )\n",
        "accT = accuracy.eval(feed_dict={x: mnist.train.images, y_: mnist.train.labels}) * 100\n",
        "print(\"The final accuracy for the simple ANN model is: {} % \".format(accT) )"
      ],
      "execution_count": 106,
      "outputs": [
        {
          "output_type": "stream",
          "text": [
            "The final accuracy for the simple ANN model is: 91.3299977779 % \n",
            "The final accuracy for the simple ANN model is: 91.2345468998 % \n"
          ],
          "name": "stdout"
        }
      ]
    },
    {
      "metadata": {
        "id": "p5EVNvB4y5GU",
        "colab_type": "code",
        "colab": {
          "base_uri": "https://localhost:8080/",
          "height": 779
        },
        "outputId": "8526bbf2-46d2-45d1-fc25-e75b085929a1"
      },
      "cell_type": "code",
      "source": [
        "tf.reduce_mean(correct_prediction)"
      ],
      "execution_count": 105,
      "outputs": [
        {
          "output_type": "error",
          "ename": "TypeError",
          "evalue": "ignored",
          "traceback": [
            "\u001b[0;31m\u001b[0m",
            "\u001b[0;31mTypeError\u001b[0mTraceback (most recent call last)",
            "\u001b[0;32m<ipython-input-105-5983bf811605>\u001b[0m in \u001b[0;36m<module>\u001b[0;34m()\u001b[0m\n\u001b[0;32m----> 1\u001b[0;31m \u001b[0mtf\u001b[0m\u001b[0;34m.\u001b[0m\u001b[0mreduce_mean\u001b[0m\u001b[0;34m(\u001b[0m\u001b[0mcorrect_prediction\u001b[0m\u001b[0;34m)\u001b[0m\u001b[0;34m\u001b[0m\u001b[0m\n\u001b[0m",
            "\u001b[0;32m/usr/local/lib/python2.7/dist-packages/tensorflow/python/util/deprecation.pyc\u001b[0m in \u001b[0;36mnew_func\u001b[0;34m(*args, **kwargs)\u001b[0m\n\u001b[1;32m    486\u001b[0m                 \u001b[0;34m'in a future version'\u001b[0m \u001b[0;32mif\u001b[0m \u001b[0mdate\u001b[0m \u001b[0;32mis\u001b[0m \u001b[0mNone\u001b[0m \u001b[0;32melse\u001b[0m \u001b[0;34m(\u001b[0m\u001b[0;34m'after %s'\u001b[0m \u001b[0;34m%\u001b[0m \u001b[0mdate\u001b[0m\u001b[0;34m)\u001b[0m\u001b[0;34m,\u001b[0m\u001b[0;34m\u001b[0m\u001b[0m\n\u001b[1;32m    487\u001b[0m                 instructions)\n\u001b[0;32m--> 488\u001b[0;31m       \u001b[0;32mreturn\u001b[0m \u001b[0mfunc\u001b[0m\u001b[0;34m(\u001b[0m\u001b[0;34m*\u001b[0m\u001b[0margs\u001b[0m\u001b[0;34m,\u001b[0m \u001b[0;34m**\u001b[0m\u001b[0mkwargs\u001b[0m\u001b[0;34m)\u001b[0m\u001b[0;34m\u001b[0m\u001b[0m\n\u001b[0m\u001b[1;32m    489\u001b[0m     return tf_decorator.make_decorator(func, new_func, 'deprecated',\n\u001b[1;32m    490\u001b[0m                                        _add_deprecated_arg_notice_to_docstring(\n",
            "\u001b[0;32m/usr/local/lib/python2.7/dist-packages/tensorflow/python/ops/math_ops.pyc\u001b[0m in \u001b[0;36mreduce_mean\u001b[0;34m(input_tensor, axis, keepdims, name, reduction_indices, keep_dims)\u001b[0m\n\u001b[1;32m   1493\u001b[0m                                                   reduction_indices),\n\u001b[1;32m   1494\u001b[0m                                    \u001b[0mkeepdims\u001b[0m\u001b[0;34m,\u001b[0m\u001b[0;34m\u001b[0m\u001b[0m\n\u001b[0;32m-> 1495\u001b[0;31m                                    name=name))\n\u001b[0m\u001b[1;32m   1496\u001b[0m \u001b[0;34m\u001b[0m\u001b[0m\n\u001b[1;32m   1497\u001b[0m \u001b[0;34m\u001b[0m\u001b[0m\n",
            "\u001b[0;32m/usr/local/lib/python2.7/dist-packages/tensorflow/python/ops/gen_math_ops.pyc\u001b[0m in \u001b[0;36mmean\u001b[0;34m(input, axis, keep_dims, name)\u001b[0m\n\u001b[1;32m   4776\u001b[0m     _, _, _op = _op_def_lib._apply_op_helper(\n\u001b[1;32m   4777\u001b[0m         \u001b[0;34m\"Mean\"\u001b[0m\u001b[0;34m,\u001b[0m \u001b[0minput\u001b[0m\u001b[0;34m=\u001b[0m\u001b[0minput\u001b[0m\u001b[0;34m,\u001b[0m \u001b[0mreduction_indices\u001b[0m\u001b[0;34m=\u001b[0m\u001b[0maxis\u001b[0m\u001b[0;34m,\u001b[0m \u001b[0mkeep_dims\u001b[0m\u001b[0;34m=\u001b[0m\u001b[0mkeep_dims\u001b[0m\u001b[0;34m,\u001b[0m\u001b[0;34m\u001b[0m\u001b[0m\n\u001b[0;32m-> 4778\u001b[0;31m         name=name)\n\u001b[0m\u001b[1;32m   4779\u001b[0m     \u001b[0m_result\u001b[0m \u001b[0;34m=\u001b[0m \u001b[0m_op\u001b[0m\u001b[0;34m.\u001b[0m\u001b[0moutputs\u001b[0m\u001b[0;34m[\u001b[0m\u001b[0;34m:\u001b[0m\u001b[0;34m]\u001b[0m\u001b[0;34m\u001b[0m\u001b[0m\n\u001b[1;32m   4780\u001b[0m     \u001b[0m_inputs_flat\u001b[0m \u001b[0;34m=\u001b[0m \u001b[0m_op\u001b[0m\u001b[0;34m.\u001b[0m\u001b[0minputs\u001b[0m\u001b[0;34m\u001b[0m\u001b[0m\n",
            "\u001b[0;32m/usr/local/lib/python2.7/dist-packages/tensorflow/python/framework/op_def_library.pyc\u001b[0m in \u001b[0;36m_apply_op_helper\u001b[0;34m(self, op_type_name, name, **keywords)\u001b[0m\n\u001b[1;32m    607\u001b[0m               _SatisfiesTypeConstraint(base_type,\n\u001b[1;32m    608\u001b[0m                                        \u001b[0m_Attr\u001b[0m\u001b[0;34m(\u001b[0m\u001b[0mop_def\u001b[0m\u001b[0;34m,\u001b[0m \u001b[0minput_arg\u001b[0m\u001b[0;34m.\u001b[0m\u001b[0mtype_attr\u001b[0m\u001b[0;34m)\u001b[0m\u001b[0;34m,\u001b[0m\u001b[0;34m\u001b[0m\u001b[0m\n\u001b[0;32m--> 609\u001b[0;31m                                        param_name=input_name)\n\u001b[0m\u001b[1;32m    610\u001b[0m             \u001b[0mattrs\u001b[0m\u001b[0;34m[\u001b[0m\u001b[0minput_arg\u001b[0m\u001b[0;34m.\u001b[0m\u001b[0mtype_attr\u001b[0m\u001b[0;34m]\u001b[0m \u001b[0;34m=\u001b[0m \u001b[0mattr_value\u001b[0m\u001b[0;34m\u001b[0m\u001b[0m\n\u001b[1;32m    611\u001b[0m             \u001b[0minferred_from\u001b[0m\u001b[0;34m[\u001b[0m\u001b[0minput_arg\u001b[0m\u001b[0;34m.\u001b[0m\u001b[0mtype_attr\u001b[0m\u001b[0;34m]\u001b[0m \u001b[0;34m=\u001b[0m \u001b[0minput_name\u001b[0m\u001b[0;34m\u001b[0m\u001b[0m\n",
            "\u001b[0;32m/usr/local/lib/python2.7/dist-packages/tensorflow/python/framework/op_def_library.pyc\u001b[0m in \u001b[0;36m_SatisfiesTypeConstraint\u001b[0;34m(dtype, attr_def, param_name)\u001b[0m\n\u001b[1;32m     58\u001b[0m           \u001b[0;34m\"allowed values: %s\"\u001b[0m \u001b[0;34m%\u001b[0m\u001b[0;34m\u001b[0m\u001b[0m\n\u001b[1;32m     59\u001b[0m           (param_name, dtypes.as_dtype(dtype).name,\n\u001b[0;32m---> 60\u001b[0;31m            \", \".join(dtypes.as_dtype(x).name for x in allowed_list)))\n\u001b[0m\u001b[1;32m     61\u001b[0m \u001b[0;34m\u001b[0m\u001b[0m\n\u001b[1;32m     62\u001b[0m \u001b[0;34m\u001b[0m\u001b[0m\n",
            "\u001b[0;31mTypeError\u001b[0m: Value passed to parameter 'input' has DataType bool not in list of allowed values: float32, float64, int32, uint8, int16, int8, complex64, int64, qint8, quint8, qint32, bfloat16, uint16, complex128, float16, uint32, uint64"
          ]
        }
      ]
    },
    {
      "metadata": {
        "id": "E6EVWzTZzEwI",
        "colab_type": "code",
        "colab": {}
      },
      "cell_type": "code",
      "source": [
        "sess.close() #finish the session\n"
      ],
      "execution_count": 0,
      "outputs": []
    },
    {
      "metadata": {
        "id": "X-O1Enzezsj1",
        "colab_type": "code",
        "colab": {
          "base_uri": "https://localhost:8080/",
          "height": 102
        },
        "outputId": "4fbdc17c-f051-4a19-acc4-ddcd68e0b288"
      },
      "cell_type": "code",
      "source": [
        "import tensorflow as tf\n",
        "\n",
        "# finish possible remaining session\n",
        "sess.close()\n",
        "\n",
        "#Start interactive session\n",
        "sess = tf.InteractiveSession()\n",
        "\n",
        "\n",
        "from tensorflow.examples.tutorials.mnist import input_data\n",
        "mnist = input_data.read_data_sets('MNIST_data', one_hot=True)\n",
        "\n",
        "\n",
        "width = 28 # width of the image in pixels \n",
        "height = 28 # height of the image in pixels\n",
        "flat = width * height # number of pixels in one image \n",
        "class_output = 10 # number of possible classifications for the problem\n",
        "\n",
        "x  = tf.placeholder(tf.float32, shape=[None, flat])\n",
        "y_ = tf.placeholder(tf.float32, shape=[None, class_output])\n",
        "\n",
        "\n",
        "\n",
        "x_image = tf.reshape(x, [-1,28,28,1])  \n",
        "x_image"
      ],
      "execution_count": 108,
      "outputs": [
        {
          "output_type": "stream",
          "text": [
            "Extracting MNIST_data/train-images-idx3-ubyte.gz\n",
            "Extracting MNIST_data/train-labels-idx1-ubyte.gz\n",
            "Extracting MNIST_data/t10k-images-idx3-ubyte.gz\n",
            "Extracting MNIST_data/t10k-labels-idx1-ubyte.gz\n"
          ],
          "name": "stdout"
        },
        {
          "output_type": "execute_result",
          "data": {
            "text/plain": [
              "<tf.Tensor 'Reshape:0' shape=(?, 28, 28, 1) dtype=float32>"
            ]
          },
          "metadata": {
            "tags": []
          },
          "execution_count": 108
        }
      ]
    },
    {
      "metadata": {
        "id": "rwt4Hb1T45LW",
        "colab_type": "code",
        "colab": {
          "base_uri": "https://localhost:8080/",
          "height": 34
        },
        "outputId": "eacb343e-c7d9-416d-8675-b1dd576cd175"
      },
      "cell_type": "code",
      "source": [
        "x_image.shape"
      ],
      "execution_count": 109,
      "outputs": [
        {
          "output_type": "execute_result",
          "data": {
            "text/plain": [
              "TensorShape([Dimension(None), Dimension(28), Dimension(28), Dimension(1)])"
            ]
          },
          "metadata": {
            "tags": []
          },
          "execution_count": 109
        }
      ]
    },
    {
      "metadata": {
        "id": "dYInu8gJ47Le",
        "colab_type": "code",
        "colab": {
          "base_uri": "https://localhost:8080/",
          "height": 34
        },
        "outputId": "4a927911-f7d6-42c1-92a4-3017ae75853c"
      },
      "cell_type": "code",
      "source": [
        "flat"
      ],
      "execution_count": 110,
      "outputs": [
        {
          "output_type": "execute_result",
          "data": {
            "text/plain": [
              "784"
            ]
          },
          "metadata": {
            "tags": []
          },
          "execution_count": 110
        }
      ]
    },
    {
      "metadata": {
        "id": "jHs-6enZ5Iob",
        "colab_type": "code",
        "colab": {}
      },
      "cell_type": "code",
      "source": [
        "W_conv1 = tf.Variable(tf.truncated_normal([5, 5, 1, 32], stddev=0.1))\n",
        "b_conv1 = tf.Variable(tf.constant(0.1, shape=[32])) # need 32 biases for 32 outputs"
      ],
      "execution_count": 0,
      "outputs": []
    },
    {
      "metadata": {
        "id": "kvEU9fM45Q8o",
        "colab_type": "code",
        "colab": {}
      },
      "cell_type": "code",
      "source": [
        "convolve1= tf.nn.conv2d(x_image, W_conv1, strides=[1, 1, 1, 1], padding='SAME') + b_conv1"
      ],
      "execution_count": 0,
      "outputs": []
    },
    {
      "metadata": {
        "id": "cfG2qHzt5U-o",
        "colab_type": "code",
        "colab": {
          "base_uri": "https://localhost:8080/",
          "height": 34
        },
        "outputId": "23baaba9-d60d-4ed0-dfbb-ae91e4606802"
      },
      "cell_type": "code",
      "source": [
        "convolve1"
      ],
      "execution_count": 113,
      "outputs": [
        {
          "output_type": "execute_result",
          "data": {
            "text/plain": [
              "<tf.Tensor 'add_6:0' shape=(?, 28, 28, 32) dtype=float32>"
            ]
          },
          "metadata": {
            "tags": []
          },
          "execution_count": 113
        }
      ]
    },
    {
      "metadata": {
        "id": "KFiFgR_v5Whv",
        "colab_type": "code",
        "colab": {
          "base_uri": "https://localhost:8080/",
          "height": 272
        },
        "outputId": "afc8e242-5fd3-424d-971a-6eceffa35dc7"
      },
      "cell_type": "code",
      "source": [
        "import tensorflow as tf\n",
        "\n",
        "# finish possible remaining session\n",
        "sess.close()\n",
        "\n",
        "#Start interactive session\n",
        "sess = tf.InteractiveSession()\n",
        "\n",
        "\n",
        "from tensorflow.examples.tutorials.mnist import input_data\n",
        "mnist = input_data.read_data_sets('MNIST_data', one_hot=True)\n",
        "\n",
        "\n",
        "width = 28 # width of the image in pixels \n",
        "height = 28 # height of the image in pixels\n",
        "flat = width * height # number of pixels in one image \n",
        "class_output = 10 # number of possible classifications for the problem\n",
        "\n",
        "x  = tf.placeholder(tf.float32, shape=[None, flat])\n",
        "y_ = tf.placeholder(tf.float32, shape=[None, class_output])\n",
        "\n",
        "\n",
        "\n",
        "x_image = tf.reshape(x, [-1,28,28,1])  \n",
        "x_image\n",
        "\n",
        "\n",
        "W_conv1 = tf.Variable(tf.truncated_normal([5, 5, 1, 32], stddev=0.1))\n",
        "b_conv1 = tf.Variable(tf.constant(0.1, shape=[32])) # need 32 biases for 32 outputs\n",
        "\n",
        "\n",
        "convolve1= tf.nn.conv2d(x_image, W_conv1, strides=[1, 1, 1, 1], padding='SAME') + b_conv1\n",
        "\n",
        "\n",
        "h_conv1 = tf.nn.relu(convolve1)\n",
        "\n",
        "conv1 = tf.nn.max_pool(h_conv1, ksize=[1, 2, 2, 1], strides=[1, 2, 2, 1], padding='SAME') #max_pool_2x2\n",
        "conv1\n",
        "\n",
        "\n",
        "W_conv2 = tf.Variable(tf.truncated_normal([5, 5, 32, 64], stddev=0.1))\n",
        "b_conv2 = tf.Variable(tf.constant(0.1, shape=[64])) #need 64 biases for 64 outputs\n",
        "\n",
        "\n",
        "convolve2= tf.nn.conv2d(conv1, W_conv2, strides=[1, 1, 1, 1], padding='SAME')+ b_conv2\n",
        "\n",
        "h_conv2 = tf.nn.relu(convolve2)\n",
        "\n",
        "\n",
        "conv2 = tf.nn.max_pool(h_conv2, ksize=[1, 2, 2, 1], strides=[1, 2, 2, 1], padding='SAME') #max_pool_2x2\n",
        "conv2\n",
        "\n",
        "\n",
        "\n",
        "\n",
        "layer2_matrix = tf.reshape(conv2, [-1, 7*7*64])\n",
        "\n",
        "\n",
        "W_fc1 = tf.Variable(tf.truncated_normal([7 * 7 * 64, 1024], stddev=0.1))\n",
        "b_fc1 = tf.Variable(tf.constant(0.1, shape=[1024])) # need 1024 biases for 1024 outputs\n",
        "\n",
        "\n",
        "fcl=tf.matmul(layer2_matrix, W_fc1) + b_fc1\n",
        "\n",
        "\n",
        "h_fc1 = tf.nn.relu(fcl)\n",
        "h_fc1\n",
        "\n",
        "\n",
        "keep_prob = tf.placeholder(tf.float32)\n",
        "layer_drop = tf.nn.dropout(h_fc1, keep_prob)\n",
        "layer_drop\n",
        "\n",
        "\n",
        "W_fc2 = tf.Variable(tf.truncated_normal([1024, 10], stddev=0.1)) #1024 neurons\n",
        "b_fc2 = tf.Variable(tf.constant(0.1, shape=[10])) # 10 possibilities for digits [0,1,2,3,4,5,6,7,8,9]\n",
        "\n",
        "\n",
        "fc=tf.matmul(layer_drop, W_fc2) + b_fc2\n",
        "\n",
        "\n",
        "y_CNN= tf.nn.softmax(fc)\n",
        "y_CNN\n",
        "\n",
        "\n",
        "cross_entropy = tf.reduce_mean(-tf.reduce_sum(y_ * tf.log(y_CNN), reduction_indices=[1]))\n",
        "\n",
        "\n",
        "train_step = tf.train.AdamOptimizer(1e-4).minimize(cross_entropy)\n",
        "\n",
        "\n",
        "\n",
        "correct_prediction = tf.equal(tf.argmax(y_CNN,1), tf.argmax(y_,1))\n",
        "accuracy = tf.reduce_mean(tf.cast(correct_prediction, tf.float32))\n",
        "sess.run(tf.global_variables_initializer())\n",
        "\n",
        "\n",
        "\n",
        "\n",
        "\n",
        "for i in range(1100):\n",
        "    batch = mnist.train.next_batch(50)\n",
        "    if i%100 == 0:\n",
        "        train_accuracy = accuracy.eval(feed_dict={x:batch[0], y_: batch[1], keep_prob: 1.0})\n",
        "        print(\"step %d, training accuracy %g\"%(i, float(train_accuracy)))\n",
        "    train_step.run(feed_dict={x: batch[0], y_: batch[1], keep_prob: 0.5})\n"
      ],
      "execution_count": 126,
      "outputs": [
        {
          "output_type": "stream",
          "text": [
            "Extracting MNIST_data/train-images-idx3-ubyte.gz\n",
            "Extracting MNIST_data/train-labels-idx1-ubyte.gz\n",
            "Extracting MNIST_data/t10k-images-idx3-ubyte.gz\n",
            "Extracting MNIST_data/t10k-labels-idx1-ubyte.gz\n",
            "step 0, training accuracy 0.06\n",
            "step 100, training accuracy 0.9\n",
            "step 200, training accuracy 0.86\n",
            "step 300, training accuracy 0.94\n",
            "step 400, training accuracy 0.88\n",
            "step 500, training accuracy 0.92\n",
            "step 600, training accuracy 0.98\n",
            "step 700, training accuracy 0.88\n",
            "step 800, training accuracy 0.98\n",
            "step 900, training accuracy 0.92\n",
            "step 1000, training accuracy 1\n"
          ],
          "name": "stdout"
        }
      ]
    },
    {
      "metadata": {
        "id": "zsn3PF_jCFpB",
        "colab_type": "code",
        "colab": {
          "base_uri": "https://localhost:8080/",
          "height": 34
        },
        "outputId": "e4c7100a-1dc2-4327-8baa-a81bae588927"
      },
      "cell_type": "code",
      "source": [
        "print(\"test accuracy %g\"%accuracy.eval(feed_dict={x: mnist.test.images, y_: mnist.test.labels, keep_prob: 1.0}))"
      ],
      "execution_count": 127,
      "outputs": [
        {
          "output_type": "stream",
          "text": [
            "test accuracy 0.9647\n"
          ],
          "name": "stdout"
        }
      ]
    },
    {
      "metadata": {
        "id": "b7c8a5k4J5se",
        "colab_type": "code",
        "colab": {
          "base_uri": "https://localhost:8080/",
          "height": 34
        },
        "outputId": "d1f3d3d4-4716-40c9-9e31-48682f57a3d2"
      },
      "cell_type": "code",
      "source": [
        "x = tf.constant([[1, 2, 3], [4, 5, 6]])\n",
        "print(tf.transpose(x))"
      ],
      "execution_count": 123,
      "outputs": [
        {
          "output_type": "stream",
          "text": [
            "Tensor(\"transpose_1:0\", shape=(3, 2), dtype=int32)\n"
          ],
          "name": "stdout"
        }
      ]
    },
    {
      "metadata": {
        "id": "L5qDl0NaDY3p",
        "colab_type": "code",
        "colab": {
          "base_uri": "https://localhost:8080/",
          "height": 1228
        },
        "outputId": "93e17099-e57e-497f-aaa0-12f9ec1818a2"
      },
      "cell_type": "code",
      "source": [
        "kernels = sess.run(tf.reshape(tf.transpose(W_conv1, perm=[2, 3, 0,1]),[32,-1]))\n",
        "\n",
        "\n",
        "!wget --output-document utils1.py http://deeplearning.net/tutorial/code/utils.py\n",
        "import utils1\n",
        "from utils1 import tile_raster_images\n",
        "import matplotlib.pyplot as plt\n",
        "from PIL import Image\n",
        "%matplotlib inline\n",
        "image = Image.fromarray(tile_raster_images(kernels, img_shape=(5, 5) ,tile_shape=(4, 8), tile_spacing=(1, 1)))\n",
        "### Plot image\n",
        "plt.rcParams['figure.figsize'] = (18.0, 18.0)\n",
        "imgplot = plt.imshow(image)\n",
        "imgplot.set_cmap('gray')  \n",
        "\n",
        "\n",
        "import numpy as np\n",
        "plt.rcParams['figure.figsize'] = (5.0, 5.0)\n",
        "sampleimage = mnist.test.images[1]\n",
        "plt.imshow(np.reshape(sampleimage,[28,28]), cmap=\"gray\")\n",
        "\n",
        "\n",
        "ActivatedUnits = sess.run(convolve1,feed_dict={x:np.reshape(sampleimage,[1,784],order='F'),keep_prob:1.0})\n",
        "filters = ActivatedUnits.shape[3]\n",
        "plt.figure(1, figsize=(20,20))\n",
        "n_columns = 6\n",
        "n_rows = np.math.ceil(filters / n_columns) + 1\n",
        "for i in range(filters):\n",
        "    plt.subplot(n_rows, n_columns, i+1)\n",
        "    plt.title('Filter ' + str(i))\n",
        "    plt.imshow(ActivatedUnits[0,:,:,i], interpolation=\"nearest\", cmap=\"gray\")"
      ],
      "execution_count": 132,
      "outputs": [
        {
          "output_type": "stream",
          "text": [
            "--2018-11-26 04:11:40--  http://deeplearning.net/tutorial/code/utils.py\n",
            "Resolving deeplearning.net (deeplearning.net)... 132.204.26.28\n",
            "Connecting to deeplearning.net (deeplearning.net)|132.204.26.28|:80... connected.\n",
            "HTTP request sent, awaiting response... 200 OK\n",
            "Length: 5097 (5.0K) [text/plain]\n",
            "Saving to: ‘utils1.py’\n",
            "\n",
            "\rutils1.py             0%[                    ]       0  --.-KB/s               \rutils1.py           100%[===================>]   4.98K  --.-KB/s    in 0s      \n",
            "\n",
            "2018-11-26 04:11:41 (456 MB/s) - ‘utils1.py’ saved [5097/5097]\n",
            "\n"
          ],
          "name": "stdout"
        },
        {
          "output_type": "display_data",
          "data": {
            "image/png": "[encoded data removed]",
            "text/plain": [
              "<matplotlib.figure.Figure at 0x7fd422cd8650>"
            ]
          },
          "metadata": {
            "tags": []
          }
        }
      ]
    },
    {
      "metadata": {
        "id": "a0mqziAzDrcU",
        "colab_type": "code",
        "colab": {
          "base_uri": "https://localhost:8080/",
          "height": 1027
        },
        "outputId": "84bb1ef4-2ef3-45a2-e21e-74d885ea40b9"
      },
      "cell_type": "code",
      "source": [
        "ActivatedUnits = sess.run(convolve2,feed_dict={x:np.reshape(sampleimage,[1,784],order='F'),keep_prob:1.0})\n",
        "filters = ActivatedUnits.shape[3]\n",
        "plt.figure(1, figsize=(20,20))\n",
        "n_columns = 8\n",
        "n_rows = np.math.ceil(filters / n_columns) + 1\n",
        "for i in range(filters):\n",
        "    plt.subplot(n_rows, n_columns, i+1)\n",
        "    plt.title('Filter ' + str(i))\n",
        "    plt.imshow(ActivatedUnits[0,:,:,i], interpolation=\"nearest\", cmap=\"gray\")"
      ],
      "execution_count": 133,
      "outputs": [
        {
          "output_type": "display_data",
          "data": {
            "image/png": "[encoded data removed]",
            "text/plain": [
              "<matplotlib.figure.Figure at 0x7fd422f93f90>"
            ]
          },
          "metadata": {
            "tags": []
          }
        }
      ]
    },
    {
      "metadata": {
        "id": "ZV8BM3b9Dw7V",
        "colab_type": "code",
        "colab": {
          "base_uri": "https://localhost:8080/",
          "height": 4913
        },
        "outputId": "e6d51551-5646-45c6-cb84-54f7c68e95b4"
      },
      "cell_type": "code",
      "source": [
        "kernels"
      ],
      "execution_count": 118,
      "outputs": [
        {
          "output_type": "execute_result",
          "data": {
            "text/plain": [
              "array([[-4.74866703e-02,  5.87054826e-02,  8.51124302e-02,\n",
              "         7.14936033e-02,  3.36714238e-02, -5.09093516e-02,\n",
              "        -2.05368567e-02, -1.43362135e-01,  6.00590482e-02,\n",
              "         1.89623404e-02,  1.96721956e-01,  1.19410805e-01,\n",
              "         4.61962223e-02, -8.45419466e-02, -7.62782916e-02,\n",
              "         1.82560030e-02,  1.46587476e-01, -8.33035409e-02,\n",
              "         1.61832333e-01, -1.32479087e-01,  2.13059299e-02,\n",
              "         7.31627420e-02, -1.56238735e-01,  2.47390065e-02,\n",
              "         1.08023882e-01],\n",
              "       [ 1.90079778e-01, -5.11214286e-02,  2.43031438e-02,\n",
              "        -1.61933452e-01,  1.85994044e-01, -2.24790685e-02,\n",
              "         9.34659541e-02,  4.90340926e-02, -6.71103671e-02,\n",
              "         7.85102416e-03,  6.72556907e-02,  1.11439712e-02,\n",
              "         6.13602623e-03,  1.50636837e-01, -7.27295130e-02,\n",
              "        -1.73188336e-02,  2.00248454e-02,  9.18893144e-02,\n",
              "         6.98930100e-02,  1.00336529e-01, -1.38341933e-01,\n",
              "         7.66727626e-02, -1.13826342e-01,  7.48210996e-02,\n",
              "        -5.21322452e-02],\n",
              "       [-8.36048946e-02, -1.42644793e-01,  8.56862441e-02,\n",
              "         1.33886158e-01, -8.33689347e-02,  4.63133641e-02,\n",
              "        -1.26754731e-01,  7.53862113e-02, -2.62732734e-03,\n",
              "        -7.08121508e-02, -3.74202207e-02,  2.05111336e-02,\n",
              "         3.21772136e-02,  6.19572736e-02, -1.05651706e-01,\n",
              "         1.17694937e-01,  1.79076970e-01,  1.54217467e-01,\n",
              "        -2.40011048e-02,  3.58797722e-02,  1.63988441e-01,\n",
              "        -1.66371107e-01,  5.68386018e-02, -1.80858746e-01,\n",
              "        -8.32896680e-02],\n",
              "       [ 1.29338369e-01,  6.07841536e-02,  9.93943512e-02,\n",
              "         3.39223631e-02, -7.36871958e-02, -6.26637042e-02,\n",
              "        -7.61241317e-02,  1.25641763e-01, -1.47714689e-01,\n",
              "         9.68183298e-03,  8.25837627e-02, -4.44894172e-02,\n",
              "         6.10657819e-02,  1.75305843e-01, -1.43480971e-01,\n",
              "        -2.60280576e-02, -5.50162345e-02,  5.96330427e-02,\n",
              "        -3.58914509e-02, -5.80699667e-02, -7.15933368e-02,\n",
              "         1.22142501e-01, -4.63541001e-02,  5.09735569e-02,\n",
              "         8.66012350e-02],\n",
              "       [ 4.84582037e-02,  2.98168398e-02,  1.38186693e-01,\n",
              "        -6.03581145e-02, -8.87176953e-03,  7.88331777e-02,\n",
              "        -1.49815768e-01, -5.02339005e-02,  6.49341196e-02,\n",
              "         1.75681397e-01,  1.58903450e-01, -7.04786703e-02,\n",
              "         5.09845987e-02,  3.77778336e-02, -2.66350601e-02,\n",
              "         1.90531880e-01,  1.67795420e-01,  7.21027181e-02,\n",
              "         1.07103139e-02,  3.96931320e-02, -1.68163087e-02,\n",
              "         3.54383625e-02,  1.43953981e-02, -1.29372925e-01,\n",
              "         1.14330556e-02],\n",
              "       [ 3.76229621e-02,  2.70091672e-03,  6.90914765e-02,\n",
              "        -5.46135083e-02, -1.07050642e-01,  7.70967454e-02,\n",
              "        -9.02696997e-02,  1.23683959e-01,  1.16862534e-02,\n",
              "        -1.46132216e-01,  7.67712966e-02, -5.32151870e-02,\n",
              "        -2.32459605e-02, -1.04055963e-01,  7.96263590e-02,\n",
              "        -1.35958195e-01, -6.71845675e-02,  3.19549516e-02,\n",
              "        -4.32282276e-02, -5.00978082e-02,  2.23950502e-02,\n",
              "        -6.44397438e-02,  9.87684876e-02,  1.36790425e-03,\n",
              "         1.46249920e-01],\n",
              "       [ 2.80902777e-02,  2.48010568e-02,  7.30901062e-02,\n",
              "         1.27680553e-02, -1.04674071e-01,  1.24093993e-02,\n",
              "        -6.92960992e-02, -1.20324902e-02, -3.90146747e-02,\n",
              "         1.20713361e-01, -2.94563025e-02,  3.74140888e-02,\n",
              "         8.21061209e-02, -1.63597316e-01,  2.78320834e-02,\n",
              "        -2.72370763e-02, -1.09588914e-01,  1.17292106e-01,\n",
              "         5.78100532e-02,  2.38352567e-02, -5.18085696e-02,\n",
              "         4.44840454e-03, -5.83894178e-02, -2.37736199e-02,\n",
              "        -9.52436868e-03],\n",
              "       [ 1.02122039e-01,  1.28470093e-01,  1.77906483e-01,\n",
              "        -8.76567364e-02,  1.00748524e-01,  1.06282949e-01,\n",
              "         1.62338614e-01,  9.29794759e-02, -4.52902541e-03,\n",
              "        -1.06866807e-02,  1.07843928e-01,  1.76434949e-01,\n",
              "         8.57141688e-02,  6.35972694e-02, -7.88462311e-02,\n",
              "        -9.65901613e-02, -1.94723472e-01, -1.17939249e-01,\n",
              "        -5.42342812e-02,  1.21086344e-01,  2.33226828e-03,\n",
              "         7.45925829e-02,  6.46557137e-02, -7.08179027e-02,\n",
              "        -1.46065161e-01],\n",
              "       [-1.46403283e-01, -1.02250516e-01,  1.39568057e-02,\n",
              "        -3.44848000e-02,  7.35854506e-02,  4.35877740e-02,\n",
              "        -2.51444448e-02,  1.02315173e-01, -7.93995559e-02,\n",
              "         6.47637621e-02,  1.76199138e-01, -6.07942529e-02,\n",
              "         1.15492888e-01, -8.76526982e-02, -5.66831417e-02,\n",
              "         2.00392655e-03,  5.18507250e-02, -1.62155002e-01,\n",
              "         1.33679248e-02, -6.01627901e-02, -2.34857704e-02,\n",
              "         1.29454687e-01, -7.58966804e-02,  6.92964299e-04,\n",
              "         9.41646695e-02],\n",
              "       [-3.44577059e-02,  8.13842053e-04, -6.49302900e-02,\n",
              "         3.10303289e-02,  4.41633314e-02, -3.17929350e-02,\n",
              "        -8.45850334e-02,  7.06988424e-02, -4.53457423e-03,\n",
              "         6.30870014e-02, -5.92920259e-02,  1.21282348e-02,\n",
              "        -4.88469377e-02,  1.31076425e-01, -1.44171908e-01,\n",
              "         7.44596422e-02, -1.73641309e-01,  7.08108395e-02,\n",
              "         1.54136673e-01,  5.64713497e-03, -1.73132330e-01,\n",
              "        -1.29192054e-01, -2.05785289e-01, -6.00520819e-02,\n",
              "        -7.70122707e-02],\n",
              "       [-4.79292385e-02, -3.13248523e-02,  3.70799191e-02,\n",
              "         1.11093938e-01, -1.06085710e-01, -3.85534950e-02,\n",
              "        -1.00408550e-02, -5.64840138e-02, -3.48130204e-02,\n",
              "         1.66982152e-02, -1.38419449e-01,  7.16469660e-02,\n",
              "        -2.92337388e-02, -1.17775105e-01, -1.04886673e-01,\n",
              "         1.49268895e-01, -7.38424361e-02, -4.34037112e-02,\n",
              "        -8.26844648e-02, -4.74490561e-02,  1.72808349e-01,\n",
              "        -5.38614206e-02,  1.43768400e-01,  3.41453291e-02,\n",
              "        -6.91533014e-02],\n",
              "       [-1.66974455e-01,  4.21560667e-02,  3.29713747e-02,\n",
              "         1.49082854e-01,  1.48755834e-01, -2.00023297e-02,\n",
              "         2.67720167e-02,  1.29034907e-01,  7.78249651e-02,\n",
              "        -1.23622203e-02,  1.04376376e-02,  4.23223525e-02,\n",
              "        -1.24862619e-01,  4.10633534e-02,  1.92371048e-02,\n",
              "        -1.17780373e-01,  6.58697337e-02,  8.24627746e-03,\n",
              "        -8.28725696e-02,  1.43425003e-01,  5.91407083e-02,\n",
              "        -7.57095739e-02,  5.49606606e-02, -8.11066628e-02,\n",
              "         1.71339251e-02],\n",
              "       [-2.74559818e-02, -1.42638236e-01, -1.44511610e-01,\n",
              "         2.87999548e-02, -5.28056286e-02, -1.69068903e-01,\n",
              "         8.06397423e-02, -5.86054586e-02,  8.86055082e-02,\n",
              "         4.87794615e-02, -1.39979705e-01,  9.07772630e-02,\n",
              "        -8.54609534e-02, -1.17623463e-01, -7.77342021e-02,\n",
              "         1.33413047e-01, -1.17801592e-01,  9.85634476e-02,\n",
              "        -1.27816185e-01, -6.70660809e-02,  1.02689929e-01,\n",
              "         1.46703184e-01, -7.32252300e-02,  5.39172404e-02,\n",
              "         3.72703634e-02],\n",
              "       [-2.55360547e-02,  9.38772485e-02, -7.98308477e-02,\n",
              "        -1.92507371e-01,  1.79208189e-01, -4.66207229e-02,\n",
              "        -5.76358624e-02,  2.13200925e-03,  5.86608164e-02,\n",
              "        -3.72379422e-02,  4.37388755e-02, -1.78181186e-01,\n",
              "         2.14523114e-02,  3.98839271e-04, -2.54022405e-02,\n",
              "        -4.34664898e-02,  7.81606063e-02, -5.04611731e-02,\n",
              "         5.63091114e-02, -1.74042583e-03,  5.31771407e-02,\n",
              "        -4.45902757e-02,  5.32732569e-02,  7.13719651e-02,\n",
              "         6.15856573e-02],\n",
              "       [-2.53739338e-02, -1.30143529e-02, -5.42781465e-02,\n",
              "        -1.89905956e-01, -6.70139864e-02, -4.19698171e-02,\n",
              "         7.67866373e-02, -5.36913313e-02,  1.52141619e-02,\n",
              "         1.69914719e-02, -1.32589996e-01,  4.29945672e-03,\n",
              "         5.10803200e-02, -1.23271290e-02, -5.65069281e-02,\n",
              "        -1.72610651e-03, -1.64094836e-01,  4.13958654e-02,\n",
              "         1.05148807e-01, -2.30482072e-02, -1.45024493e-01,\n",
              "        -5.38750663e-02,  5.79416193e-02,  3.23243886e-02,\n",
              "        -3.71864438e-02],\n",
              "       [-2.31244005e-02, -2.46063378e-02,  1.61931843e-01,\n",
              "        -7.36714378e-02,  4.56925742e-02,  1.84205845e-02,\n",
              "         6.53301030e-02,  1.95043832e-02,  1.14333041e-01,\n",
              "         3.49131636e-02, -2.33384110e-02, -1.68037593e-01,\n",
              "        -6.65621534e-02, -2.72580143e-02,  1.08669430e-01,\n",
              "         7.99358450e-03, -1.28121506e-02, -1.67017177e-01,\n",
              "        -1.06729664e-01,  9.35560018e-02,  5.31507842e-02,\n",
              "        -2.05677316e-01,  6.11524060e-02, -4.27599028e-02,\n",
              "        -4.71740179e-02],\n",
              "       [ 8.92626867e-03,  7.68013000e-02, -6.76680878e-02,\n",
              "        -7.11620227e-02, -5.73285930e-02,  5.10828048e-02,\n",
              "        -1.33024320e-01,  1.46591887e-01,  1.44545883e-01,\n",
              "        -1.01010010e-01,  4.57602404e-02, -9.92239788e-02,\n",
              "         6.73183426e-02, -1.46387964e-01, -4.84992601e-02,\n",
              "        -3.73429544e-02, -1.80802256e-01, -4.66328971e-02,\n",
              "        -3.12074944e-02, -2.47398131e-02, -8.27340707e-02,\n",
              "         1.07801724e-02,  7.95704052e-02, -3.95477600e-02,\n",
              "        -1.65430997e-02],\n",
              "       [-1.34299904e-01, -4.02501449e-02, -1.34177923e-01,\n",
              "         4.38076518e-02, -3.92974429e-02,  2.70321630e-02,\n",
              "        -6.43662959e-02, -6.83471709e-02,  1.25618771e-01,\n",
              "         1.55414000e-01,  1.36552276e-02, -6.37108088e-02,\n",
              "         1.30276799e-01, -7.98460096e-02,  8.86994079e-02,\n",
              "         1.43216759e-01,  1.36580234e-02,  1.85812652e-01,\n",
              "         8.11923817e-02,  2.81640980e-02, -1.50166526e-01,\n",
              "         1.90479428e-01, -5.06150089e-02,  6.97421879e-02,\n",
              "        -2.12897770e-02],\n",
              "       [-1.64456919e-01,  9.88406017e-02,  4.80984561e-02,\n",
              "         7.12675694e-03, -3.44143286e-02, -9.63570103e-02,\n",
              "        -1.48934769e-02, -3.19987684e-02,  2.05824934e-02,\n",
              "         1.21736363e-01,  1.45541374e-02,  1.03955060e-01,\n",
              "         6.42153770e-02,  2.22176313e-02, -4.35050800e-02,\n",
              "        -9.69460532e-02, -1.09330438e-01,  4.69628833e-02,\n",
              "        -3.13925296e-02,  7.15600327e-02, -3.03098354e-02,\n",
              "        -3.16923931e-02,  1.73028961e-01, -5.91595732e-02,\n",
              "        -1.05603106e-01],\n",
              "       [-8.12991261e-02,  4.88575362e-03, -5.97827602e-03,\n",
              "         8.00237898e-03, -5.45249507e-02, -1.87059678e-02,\n",
              "        -4.70144749e-02, -1.85925793e-02,  1.01082645e-01,\n",
              "        -1.26981974e-01,  3.84579040e-02,  5.42990975e-02,\n",
              "         4.52768132e-02, -8.90666470e-02, -1.32216990e-01,\n",
              "         1.13034621e-01, -8.32906365e-02,  1.25496264e-03,\n",
              "        -5.97679019e-02, -1.25763500e-02, -4.07688841e-02,\n",
              "        -8.43550116e-02, -1.37107879e-01,  6.53420314e-02,\n",
              "        -8.00596103e-02],\n",
              "       [ 1.11647300e-01, -6.10230863e-02,  3.09894383e-02,\n",
              "         5.24857752e-02,  1.07571408e-01,  1.12125292e-01,\n",
              "        -7.54034817e-02, -1.30912766e-01,  6.43033460e-02,\n",
              "        -2.59196311e-02,  2.13887990e-02,  9.45569798e-02,\n",
              "        -2.70322710e-02,  1.81283131e-02,  9.80595127e-03,\n",
              "         2.24402677e-02, -8.10223520e-02, -4.52016890e-02,\n",
              "        -4.48778905e-02,  1.89662185e-02, -4.92000021e-02,\n",
              "        -9.85867977e-02,  1.69163551e-02,  4.71590534e-02,\n",
              "         4.03340645e-02],\n",
              "       [-2.68813726e-02, -8.17379132e-02,  6.56532794e-02,\n",
              "        -7.14540929e-02,  3.58278342e-02, -1.06529512e-01,\n",
              "         3.12173739e-02,  3.17945443e-02, -4.74489294e-02,\n",
              "         7.87192881e-02,  1.68157350e-02, -8.67396817e-02,\n",
              "         1.30891591e-01, -1.83531002e-03, -4.79433648e-02,\n",
              "         2.65392140e-02, -9.10549387e-02, -1.16785899e-01,\n",
              "         8.20576176e-02,  6.52989745e-02, -5.20495772e-02,\n",
              "        -5.41139580e-02, -7.50517771e-02,  5.01231551e-02,\n",
              "         4.21866477e-02],\n",
              "       [-1.09723192e-02, -1.06176943e-01,  1.37927517e-01,\n",
              "        -2.20597666e-02,  2.17430852e-02,  9.33672711e-02,\n",
              "        -1.86549816e-02,  9.78971720e-02, -1.49891362e-01,\n",
              "        -1.40458494e-01,  8.61045420e-02,  2.86549684e-02,\n",
              "         6.11983761e-02, -1.99147791e-01, -2.40464066e-03,\n",
              "        -7.59529173e-02, -1.88487340e-02,  4.24813814e-02,\n",
              "         2.68485043e-02, -1.34935588e-01, -1.72303349e-01,\n",
              "        -6.05837479e-02,  1.30297154e-01,  6.46751150e-02,\n",
              "        -6.96789175e-02],\n",
              "       [ 3.60637233e-02,  2.60819085e-02,  9.53176022e-02,\n",
              "         1.58678610e-02, -1.28214937e-02,  1.24268748e-01,\n",
              "        -1.01903923e-01,  1.46214426e-01,  1.13314793e-01,\n",
              "         8.59014615e-02,  1.30911753e-01,  8.21155608e-02,\n",
              "         1.36386961e-01, -1.30423114e-01, -1.10674694e-01,\n",
              "        -7.47239739e-02,  3.67395617e-02,  1.93578020e-01,\n",
              "        -9.49350744e-02,  1.35105252e-01,  3.92851904e-02,\n",
              "        -6.34587109e-02, -1.20760374e-01,  1.00299455e-01,\n",
              "         1.25699833e-01],\n",
              "       [-5.04819937e-02,  1.18846871e-01,  6.09437265e-02,\n",
              "        -5.59652336e-02,  1.25162810e-01,  1.12602100e-01,\n",
              "         5.66893034e-02, -7.32173473e-02, -7.37668946e-02,\n",
              "         2.67672390e-02,  1.16352357e-01,  1.63479839e-02,\n",
              "         4.71954234e-02, -1.46010995e-01,  9.68777388e-02,\n",
              "        -6.95631802e-02,  6.25003651e-02, -5.74834608e-02,\n",
              "        -9.09237042e-02,  4.74666059e-02,  2.93385945e-02,\n",
              "         2.46483926e-02, -4.02253531e-02,  3.87835093e-02,\n",
              "         1.50777370e-01],\n",
              "       [ 8.54657143e-02, -4.52112071e-02, -1.35750519e-02,\n",
              "        -1.28030643e-01, -1.28873244e-01,  1.78666506e-02,\n",
              "         2.16413047e-02,  6.42309478e-03, -4.17901799e-02,\n",
              "         4.56391536e-02, -1.59415640e-02,  6.48889765e-02,\n",
              "        -6.45522028e-02, -1.45136312e-01,  7.79627562e-02,\n",
              "         1.03485100e-01,  1.27318889e-01,  7.90254548e-02,\n",
              "        -6.35166690e-02, -4.45884280e-02,  7.49128237e-02,\n",
              "         7.02760443e-02,  1.93091072e-02,  2.78185238e-03,\n",
              "         1.92979053e-01],\n",
              "       [-1.15945362e-01,  5.93114495e-02,  8.77122656e-02,\n",
              "        -2.69742254e-02,  8.70360527e-03,  8.63031447e-02,\n",
              "        -4.99278530e-02, -1.09344915e-01,  1.35178352e-02,\n",
              "         1.13795966e-01, -1.29645765e-01, -5.60807511e-02,\n",
              "         6.51066154e-02, -1.61620602e-02,  1.59663558e-01,\n",
              "        -1.36213079e-01, -1.69547624e-03, -1.68861255e-01,\n",
              "        -5.95238246e-02,  7.27447346e-02, -8.16522762e-02,\n",
              "        -2.37445831e-02, -1.56727079e-02,  1.94327645e-02,\n",
              "         1.02172613e-01],\n",
              "       [-1.68196276e-01,  8.25970471e-02, -4.68613878e-02,\n",
              "        -3.43908966e-02, -1.60126656e-01,  1.91704016e-02,\n",
              "        -2.59399414e-02,  4.84233089e-02, -4.67959195e-02,\n",
              "         4.11627181e-02, -6.86643273e-02, -4.08491455e-02,\n",
              "         8.20085406e-02,  1.30487964e-01, -9.02756304e-02,\n",
              "        -9.76434872e-02,  2.82628015e-02,  7.58523867e-02,\n",
              "         4.19292971e-02,  1.59820884e-01, -2.29103435e-02,\n",
              "        -2.61020521e-03,  4.56338488e-02, -9.50793326e-02,\n",
              "         1.54595897e-01],\n",
              "       [-3.49325873e-02, -1.05438650e-01, -8.21446776e-02,\n",
              "        -1.25204623e-01, -1.35558486e-01,  1.46189451e-01,\n",
              "         7.78287426e-02, -1.18132122e-02, -5.58126047e-02,\n",
              "         1.60108522e-01, -1.29549589e-03, -7.72413835e-02,\n",
              "        -1.42735243e-01,  2.26770099e-02,  7.18628615e-02,\n",
              "         1.83563262e-01,  3.59813273e-02, -6.47993013e-02,\n",
              "         1.09142490e-01, -4.46035601e-02, -1.22796819e-01,\n",
              "         4.64522392e-02, -4.28538620e-02, -9.07300562e-02,\n",
              "         7.20099434e-02],\n",
              "       [ 4.03719544e-02,  6.92908466e-02,  6.88434169e-02,\n",
              "         1.65681131e-02, -1.10473797e-01,  5.75541481e-02,\n",
              "         1.00252002e-01,  1.15943819e-01, -7.52017349e-02,\n",
              "        -2.40099113e-02,  1.04353055e-01, -1.69885047e-02,\n",
              "         1.17203429e-01, -4.36393656e-02, -1.99012142e-02,\n",
              "         1.09847397e-01, -2.86454652e-02, -2.43653227e-02,\n",
              "        -1.22017592e-01,  1.38491482e-01, -1.08825736e-01,\n",
              "        -1.16977163e-01, -7.95580074e-02,  7.36228973e-02,\n",
              "         1.03077866e-01],\n",
              "       [ 7.48169422e-03,  9.51624215e-02,  1.88500553e-01,\n",
              "        -5.29366583e-02, -4.53026779e-03,  9.91548598e-02,\n",
              "         2.73693502e-02, -9.27439891e-03,  6.34143725e-02,\n",
              "         5.43156080e-02, -1.52076706e-01, -4.73918952e-02,\n",
              "        -8.06121621e-03, -4.05097306e-02, -5.03903441e-02,\n",
              "        -1.30777285e-01, -2.48188749e-02,  1.53458253e-01,\n",
              "        -5.86771071e-02, -3.22449952e-02,  2.53919177e-02,\n",
              "        -2.53553074e-02, -2.38521956e-02, -1.94338560e-01,\n",
              "         1.25193154e-04],\n",
              "       [ 1.19797803e-01,  1.20644784e-02, -1.56008890e-02,\n",
              "        -3.23609114e-02, -9.70739871e-02,  7.64797255e-02,\n",
              "        -2.40338352e-02,  4.64803763e-02,  1.23370752e-01,\n",
              "         1.28366411e-01, -3.88821289e-02,  1.07365966e-01,\n",
              "        -1.77268818e-01, -1.92422181e-01,  5.01897670e-02,\n",
              "         1.98028490e-01,  8.94977304e-04,  5.88284656e-02,\n",
              "         4.12733573e-03, -7.52028823e-02,  1.06758401e-01,\n",
              "        -2.74409223e-02, -7.33958259e-02,  9.94241759e-02,\n",
              "        -3.40012908e-02]], dtype=float32)"
            ]
          },
          "metadata": {
            "tags": []
          },
          "execution_count": 118
        }
      ]
    },
    {
      "metadata": {
        "id": "LVMQNUkAD-pJ",
        "colab_type": "code",
        "colab": {
          "base_uri": "https://localhost:8080/",
          "height": 34
        },
        "outputId": "70e5cd23-be70-4c63-fca1-00f39899a1e0"
      },
      "cell_type": "code",
      "source": [
        "kernels.shape"
      ],
      "execution_count": 119,
      "outputs": [
        {
          "output_type": "execute_result",
          "data": {
            "text/plain": [
              "(32, 25)"
            ]
          },
          "metadata": {
            "tags": []
          },
          "execution_count": 119
        }
      ]
    },
    {
      "metadata": {
        "id": "2aVyZljJEAWB",
        "colab_type": "code",
        "colab": {
          "base_uri": "https://localhost:8080/",
          "height": 241
        },
        "outputId": "59703522-1863-418a-ff8f-1af8138c8c3a"
      },
      "cell_type": "code",
      "source": [
        "import numpy as np\n",
        "import tensorflow as tf\n",
        "sess = tf.Session()\n",
        "\n",
        "\n",
        "LSTM_CELL_SIZE = 4  # output size (dimension), which is same as hidden size in the cell\n",
        "\n",
        "lstm_cell = tf.contrib.rnn.BasicLSTMCell(LSTM_CELL_SIZE, state_is_tuple=True)\n",
        "state = (tf.zeros([2,LSTM_CELL_SIZE]),)*2\n",
        "state\n",
        "\n",
        "\n",
        "\n",
        "sample_input = tf.constant([[1,2,3,4,3,2],[3,2,2,2,2,2]],dtype=tf.float32)\n",
        "print (sess.run(sample_input))\n",
        "\n",
        "\n",
        "with tf.variable_scope(\"LSTM_sample1\"):\n",
        "    output, state_new = lstm_cell(sample_input, state)\n",
        "sess.run(tf.global_variables_initializer())\n",
        "print (sess.run(state_new))\n",
        "\n",
        "\n",
        "print (sess.run(output))"
      ],
      "execution_count": 134,
      "outputs": [
        {
          "output_type": "stream",
          "text": [
            "WARNING:tensorflow:From <ipython-input-134-1192dee8a235>:8: __init__ (from tensorflow.python.ops.rnn_cell_impl) is deprecated and will be removed in a future version.\n",
            "Instructions for updating:\n",
            "This class is deprecated, please use tf.nn.rnn_cell.LSTMCell, which supports all the feature this cell currently has. Please replace the existing code with tf.nn.rnn_cell.LSTMCell(name='basic_lstm_cell').\n",
            "[[1. 2. 3. 4. 3. 2.]\n",
            " [3. 2. 2. 2. 2. 2.]]\n",
            "LSTMStateTuple(c=array([[ 0.28063294,  0.9376214 ,  0.48046312,  0.03510219],\n",
            "       [ 0.4248925 ,  0.75720155,  0.5656328 , -0.19917116]],\n",
            "      dtype=float32), h=array([[ 0.15864183,  0.4627387 ,  0.34781057,  0.02240114],\n",
            "       [ 0.32244474,  0.5290899 ,  0.37655193, -0.12957826]],\n",
            "      dtype=float32))\n",
            "[[ 0.15864183  0.4627387   0.34781057  0.02240114]\n",
            " [ 0.32244474  0.5290899   0.37655193 -0.12957826]]\n"
          ],
          "name": "stdout"
        }
      ]
    },
    {
      "metadata": {
        "id": "xq7122jKUl0E",
        "colab_type": "code",
        "colab": {
          "base_uri": "https://localhost:8080/",
          "height": 34
        },
        "outputId": "8c4db8da-0969-405b-cadc-58ab8ef10410"
      },
      "cell_type": "code",
      "source": [
        "lstm_cell"
      ],
      "execution_count": 135,
      "outputs": [
        {
          "output_type": "execute_result",
          "data": {
            "text/plain": [
              "<tensorflow.python.ops.rnn_cell_impl.BasicLSTMCell at 0x7fd42380d210>"
            ]
          },
          "metadata": {
            "tags": []
          },
          "execution_count": 135
        }
      ]
    },
    {
      "metadata": {
        "id": "A8NxkhZZVBQM",
        "colab_type": "code",
        "colab": {
          "base_uri": "https://localhost:8080/",
          "height": 51
        },
        "outputId": "3117aceb-5d2e-496d-b859-6cf134bd6fe9"
      },
      "cell_type": "code",
      "source": [
        "state"
      ],
      "execution_count": 136,
      "outputs": [
        {
          "output_type": "execute_result",
          "data": {
            "text/plain": [
              "(<tf.Tensor 'zeros_6:0' shape=(2, 4) dtype=float32>,\n",
              " <tf.Tensor 'zeros_6:0' shape=(2, 4) dtype=float32>)"
            ]
          },
          "metadata": {
            "tags": []
          },
          "execution_count": 136
        }
      ]
    },
    {
      "metadata": {
        "id": "fdkKTkITVHcw",
        "colab_type": "code",
        "colab": {
          "base_uri": "https://localhost:8080/",
          "height": 34
        },
        "outputId": "51c94e19-9789-4909-ba0f-47c9e995d370"
      },
      "cell_type": "code",
      "source": [
        "print(sample_input)"
      ],
      "execution_count": 138,
      "outputs": [
        {
          "output_type": "stream",
          "text": [
            "Tensor(\"Const_428:0\", shape=(2, 6), dtype=float32)\n"
          ],
          "name": "stdout"
        }
      ]
    },
    {
      "metadata": {
        "id": "EDuCTqeDXSjC",
        "colab_type": "code",
        "colab": {
          "base_uri": "https://localhost:8080/",
          "height": 153
        },
        "outputId": "c2974192-ba5c-4eab-f6a6-0781ba13ccc8"
      },
      "cell_type": "code",
      "source": [
        "sess = tf.Session()\n",
        "\n",
        "LSTM_CELL_SIZE = 4  #4 hidden nodes = state_dim = the output_dim \n",
        "input_dim = 6\n",
        "num_layers = 2\n",
        "\n",
        "\n",
        "cells = []\n",
        "for _ in range(num_layers):\n",
        "    cell = tf.contrib.rnn.LSTMCell(LSTM_CELL_SIZE)\n",
        "    cells.append(cell)\n",
        "stacked_lstm = tf.contrib.rnn.MultiRNNCell(cells)\n",
        "\n",
        "\n",
        "# Batch size x time steps x features.\n",
        "data = tf.placeholder(tf.float32, [None, None, input_dim])\n",
        "output, state = tf.nn.dynamic_rnn(cell, data, dtype=tf.float32)\n",
        "\n",
        "\n",
        "#Batch size x time steps x features.\n",
        "sample_input = [[[1,2,3,4,3,2], [1,2,1,1,1,2],[1,2,2,2,2,2]],[[1,2,3,4,3,2],[3,2,2,1,1,2],[0,0,0,0,3,2]]]\n",
        "sample_input\n",
        "\n",
        "sess.run(tf.global_variables_initializer())\n",
        "sess.run(output, feed_dict={data: sample_input})"
      ],
      "execution_count": 139,
      "outputs": [
        {
          "output_type": "execute_result",
          "data": {
            "text/plain": [
              "array([[[ 0.04751207,  0.17077863,  0.10130953, -0.17036858],\n",
              "        [ 0.11315535,  0.23720756,  0.22894567, -0.09312856],\n",
              "        [ 0.11886472,  0.28320658,  0.28758618, -0.11927529]],\n",
              "\n",
              "       [[ 0.04751207,  0.17077863,  0.10130953, -0.17036858],\n",
              "        [ 0.11029681,  0.1860683 ,  0.16186279, -0.11670331],\n",
              "        [ 0.17460008,  0.45264795,  0.11103483,  0.21507351]]],\n",
              "      dtype=float32)"
            ]
          },
          "metadata": {
            "tags": []
          },
          "execution_count": 139
        }
      ]
    },
    {
      "metadata": {
        "id": "DyNWEHdfYik5",
        "colab_type": "code",
        "colab": {
          "base_uri": "https://localhost:8080/",
          "height": 34
        },
        "outputId": "99604d00-a668-4bb2-b827-1821ef57875a"
      },
      "cell_type": "code",
      "source": [
        "output.shape"
      ],
      "execution_count": 144,
      "outputs": [
        {
          "output_type": "execute_result",
          "data": {
            "text/plain": [
              "TensorShape([Dimension(None), Dimension(None), Dimension(4)])"
            ]
          },
          "metadata": {
            "tags": []
          },
          "execution_count": 144
        }
      ]
    },
    {
      "metadata": {
        "id": "rqb9iRhtbahA",
        "colab_type": "code",
        "colab": {
          "base_uri": "https://localhost:8080/",
          "height": 153
        },
        "outputId": "81c8416d-a7ee-485e-cc57-0ce0913f4430"
      },
      "cell_type": "code",
      "source": [
        "%matplotlib inline\n",
        "import warnings\n",
        "warnings.filterwarnings('ignore')\n",
        "\n",
        "import numpy as np\n",
        "import matplotlib.pyplot as plt\n",
        "\n",
        "import tensorflow as tf\n",
        "\n",
        "\n",
        "\n",
        "from tensorflow.examples.tutorials.mnist import input_data\n",
        "mnist = input_data.read_data_sets(\".\", one_hot=True)\n"
      ],
      "execution_count": 145,
      "outputs": [
        {
          "output_type": "stream",
          "text": [
            "Successfully downloaded train-images-idx3-ubyte.gz 9912422 bytes.\n",
            "Extracting ./train-images-idx3-ubyte.gz\n",
            "Successfully downloaded train-labels-idx1-ubyte.gz 28881 bytes.\n",
            "Extracting ./train-labels-idx1-ubyte.gz\n",
            "Successfully downloaded t10k-images-idx3-ubyte.gz 1648877 bytes.\n",
            "Extracting ./t10k-images-idx3-ubyte.gz\n",
            "Successfully downloaded t10k-labels-idx1-ubyte.gz 4542 bytes.\n",
            "Extracting ./t10k-labels-idx1-ubyte.gz\n"
          ],
          "name": "stdout"
        }
      ]
    },
    {
      "metadata": {
        "id": "EYQIGPKAdORJ",
        "colab_type": "code",
        "colab": {
          "base_uri": "https://localhost:8080/",
          "height": 85
        },
        "outputId": "ff1f3af7-2b0c-4d5b-8d95-7cabcf41425a"
      },
      "cell_type": "code",
      "source": [
        "trainimgs = mnist.train.images\n",
        "trainlabels = mnist.train.labels\n",
        "testimgs = mnist.test.images\n",
        "testlabels = mnist.test.labels \n",
        "\n",
        "ntrain = trainimgs.shape[0]\n",
        "ntest = testimgs.shape[0]\n",
        "dim = trainimgs.shape[1]\n",
        "nclasses = trainlabels.shape[1]\n",
        "print (\"Train Images: \", trainimgs.shape)\n",
        "print (\"Train Labels  \", trainlabels.shape)\n",
        "print (\"Test Images:  \" , testimgs.shape)\n",
        "print (\"Test Labels:  \", testlabels.shape)\n"
      ],
      "execution_count": 146,
      "outputs": [
        {
          "output_type": "stream",
          "text": [
            "('Train Images: ', (55000, 784))\n",
            "('Train Labels  ', (55000, 10))\n",
            "('Test Images:  ', (10000, 784))\n",
            "('Test Labels:  ', (10000, 10))\n"
          ],
          "name": "stdout"
        }
      ]
    },
    {
      "metadata": {
        "id": "e_V_bs3mdebc",
        "colab_type": "code",
        "colab": {
          "base_uri": "https://localhost:8080/",
          "height": 299
        },
        "outputId": "34d0c48f-20d0-4624-bdd4-2168ae711b3f"
      },
      "cell_type": "code",
      "source": [
        "samplesIdx = [200, 201, 202]  #<-- You can change these numbers here to see other samples\n",
        "\n",
        "from mpl_toolkits.mplot3d import Axes3D\n",
        "fig = plt.figure()\n",
        "\n",
        "ax1 = fig.add_subplot(121)\n",
        "ax1.imshow(testimgs[samplesIdx[0]].reshape([28,28]), cmap='gray')\n",
        "\n",
        "\n",
        "xx, yy = np.meshgrid(np.linspace(0,28,28), np.linspace(0,28,28))\n",
        "X =  xx ; Y =  yy\n",
        "Z =  100*np.ones(X.shape)\n",
        "\n",
        "img = testimgs[700].reshape([28,28])\n",
        "ax = fig.add_subplot(122, projection='3d')\n",
        "ax.set_zlim((0,200))\n",
        "\n",
        "\n",
        "offset=200\n",
        "for i in samplesIdx:\n",
        "    img = testimgs[i].reshape([28,28]).transpose()\n",
        "    ax.contourf(X, Y, img, 200, zdir='z', offset=offset, cmap=\"gray\")\n",
        "    offset -= 100\n",
        "\n",
        "    ax.set_xticks([])\n",
        "ax.set_yticks([])\n",
        "ax.set_zticks([])\n",
        "\n",
        "plt.show()\n",
        "\n",
        "\n",
        "for i in samplesIdx:\n",
        "    print (\"Sample: {0} - Class: {1} - Label Vector: {2} \".format(i, np.nonzero(testlabels[i])[0], testlabels[i]))\n",
        "\n"
      ],
      "execution_count": 152,
      "outputs": [
        {
          "output_type": "display_data",
          "data": {
            "image/png": "[encoded data removed]",
            "text/plain": [
              "<matplotlib.figure.Figure at 0x7fd4255674d0>"
            ]
          },
          "metadata": {
            "tags": []
          }
        },
        {
          "output_type": "stream",
          "text": [
            "Sample: 200 - Class: [3] - Label Vector: [0. 0. 0. 1. 0. 0. 0. 0. 0. 0.] \n",
            "Sample: 201 - Class: [6] - Label Vector: [0. 0. 0. 0. 0. 0. 1. 0. 0. 0.] \n",
            "Sample: 202 - Class: [1] - Label Vector: [0. 1. 0. 0. 0. 0. 0. 0. 0. 0.] \n"
          ],
          "name": "stdout"
        }
      ]
    },
    {
      "metadata": {
        "id": "iAwOlZq4eOo9",
        "colab_type": "code",
        "colab": {}
      },
      "cell_type": "code",
      "source": [
        "n_input = 28 # MNIST data input (img shape: 28*28)\n",
        "n_steps = 28 # timesteps\n",
        "n_hidden = 128 # hidden layer num of features\n",
        "n_classes = 10 # MNIST total classes (0-9 digits)\n",
        "\n",
        "\n",
        "learning_rate = 0.001\n",
        "training_iters = 100000\n",
        "batch_size = 100\n",
        "display_step = 10"
      ],
      "execution_count": 0,
      "outputs": []
    },
    {
      "metadata": {
        "id": "kc7Bi4jQpIhP",
        "colab_type": "code",
        "colab": {}
      },
      "cell_type": "code",
      "source": [
        "x = tf.placeholder(dtype=\"float\", shape=[None, n_steps, n_input], name=\"x\") # Current data input shape: (batch_size, n_steps, n_input) [100x28x28]\n",
        "y = tf.placeholder(dtype=\"float\", shape=[None, n_classes], name=\"y\")"
      ],
      "execution_count": 0,
      "outputs": []
    },
    {
      "metadata": {
        "id": "0C7hdzWDpKge",
        "colab_type": "code",
        "colab": {}
      },
      "cell_type": "code",
      "source": [
        "weights = {\n",
        "    'out': tf.Variable(tf.random_normal([n_hidden, n_classes]))\n",
        "}\n",
        "biases = {\n",
        "    'out': tf.Variable(tf.random_normal([n_classes]))\n",
        "}"
      ],
      "execution_count": 0,
      "outputs": []
    },
    {
      "metadata": {
        "id": "apqZHlaSpYKo",
        "colab_type": "code",
        "colab": {}
      },
      "cell_type": "code",
      "source": [
        "lstm_cell = tf.contrib.rnn.BasicLSTMCell(n_hidden, forget_bias=1.0)"
      ],
      "execution_count": 0,
      "outputs": []
    },
    {
      "metadata": {
        "id": "iG6-y2Jnpb0n",
        "colab_type": "code",
        "colab": {}
      },
      "cell_type": "code",
      "source": [
        "outputs, states = tf.nn.dynamic_rnn(lstm_cell, inputs=x, dtype=tf.float32)\n"
      ],
      "execution_count": 0,
      "outputs": []
    },
    {
      "metadata": {
        "id": "tSQtP0bkpdQn",
        "colab_type": "code",
        "colab": {}
      },
      "cell_type": "code",
      "source": [
        "output = tf.reshape(tf.split(outputs, 28, axis=1, num=None, name='split')[-1],[-1,128])\n",
        "pred = tf.matmul(output, weights['out']) + biases['out']"
      ],
      "execution_count": 0,
      "outputs": []
    },
    {
      "metadata": {
        "id": "-yHxe8IdpejX",
        "colab_type": "code",
        "colab": {
          "base_uri": "https://localhost:8080/",
          "height": 34
        },
        "outputId": "570e681c-12fe-40ef-8c43-44f56a288127"
      },
      "cell_type": "code",
      "source": [
        "pred"
      ],
      "execution_count": 159,
      "outputs": [
        {
          "output_type": "execute_result",
          "data": {
            "text/plain": [
              "<tf.Tensor 'add_15:0' shape=(?, 10) dtype=float32>"
            ]
          },
          "metadata": {
            "tags": []
          },
          "execution_count": 159
        }
      ]
    },
    {
      "metadata": {
        "id": "VpL-rHjjpgfd",
        "colab_type": "code",
        "colab": {
          "base_uri": "https://localhost:8080/",
          "height": 173
        },
        "outputId": "9c0f5532-7ac8-4047-d8ca-ae26c5a2affa"
      },
      "cell_type": "code",
      "source": [
        "cost = tf.reduce_mean(tf.nn.softmax_cross_entropy_with_logits(labels=y, logits=pred ))\n",
        "optimizer = tf.train.AdamOptimizer(learning_rate=learning_rate).minimize(cost)"
      ],
      "execution_count": 160,
      "outputs": [
        {
          "output_type": "stream",
          "text": [
            "WARNING:tensorflow:From <ipython-input-160-901d12311984>:1: softmax_cross_entropy_with_logits (from tensorflow.python.ops.nn_ops) is deprecated and will be removed in a future version.\n",
            "Instructions for updating:\n",
            "\n",
            "Future major versions of TensorFlow will allow gradients to flow\n",
            "into the labels input on backprop by default.\n",
            "\n",
            "See `tf.nn.softmax_cross_entropy_with_logits_v2`.\n",
            "\n"
          ],
          "name": "stdout"
        }
      ]
    },
    {
      "metadata": {
        "id": "GJe5eAIKphxF",
        "colab_type": "code",
        "colab": {}
      },
      "cell_type": "code",
      "source": [
        "correct_pred = tf.equal(tf.argmax(pred,1), tf.argmax(y,1))\n",
        "accuracy = tf.reduce_mean(tf.cast(correct_pred, tf.float32))"
      ],
      "execution_count": 0,
      "outputs": []
    },
    {
      "metadata": {
        "id": "aSy4NafcpjwK",
        "colab_type": "code",
        "colab": {
          "base_uri": "https://localhost:8080/",
          "height": 1734
        },
        "outputId": "4bdef976-1caf-4e76-a509-19c30aadbe5d"
      },
      "cell_type": "code",
      "source": [
        "init = tf.global_variables_initializer()\n",
        "\n",
        "with tf.Session() as sess:\n",
        "    sess.run(init)\n",
        "    step = 1\n",
        "    # Keep training until reach max iterations\n",
        "    while step * batch_size < training_iters:\n",
        "\n",
        "        # We will read a batch of 100 images [100 x 784] as batch_x\n",
        "        # batch_y is a matrix of [100x10]\n",
        "        batch_x, batch_y = mnist.train.next_batch(batch_size)\n",
        "        \n",
        "        # We consider each row of the image as one sequence\n",
        "        # Reshape data to get 28 seq of 28 elements, so that, batxh_x is [100x28x28]\n",
        "        batch_x = batch_x.reshape((batch_size, n_steps, n_input))\n",
        "    \n",
        "\n",
        "        # Run optimization op (backprop)\n",
        "        sess.run(optimizer, feed_dict={x: batch_x, y: batch_y})\n",
        "        \n",
        "        \n",
        "        if step % display_step == 0:\n",
        "            # Calculate batch accuracy\n",
        "            acc = sess.run(accuracy, feed_dict={x: batch_x, y: batch_y})\n",
        "            # Calculate batch loss\n",
        "            loss = sess.run(cost, feed_dict={x: batch_x, y: batch_y})\n",
        "            print(\"Iter \" + str(step*batch_size) + \", Minibatch Loss= \" + \\\n",
        "                  \"{:.6f}\".format(loss) + \", Training Accuracy= \" + \\\n",
        "                  \"{:.5f}\".format(acc))\n",
        "        step += 1\n",
        "    print(\"Optimization Finished!\")\n",
        "\n",
        "    # Calculate accuracy for 128 mnist test images\n",
        "    test_len = 128\n",
        "    test_data = mnist.test.images[:test_len].reshape((-1, n_steps, n_input))\n",
        "    test_label = mnist.test.labels[:test_len]\n",
        "    print(\"Testing Accuracy:\", \\\n",
        "        sess.run(accuracy, feed_dict={x: test_data, y: test_label}))"
      ],
      "execution_count": 162,
      "outputs": [
        {
          "output_type": "stream",
          "text": [
            "Iter 1000, Minibatch Loss= 2.003757, Training Accuracy= 0.26000\n",
            "Iter 2000, Minibatch Loss= 1.713291, Training Accuracy= 0.35000\n",
            "Iter 3000, Minibatch Loss= 1.545805, Training Accuracy= 0.41000\n",
            "Iter 4000, Minibatch Loss= 1.158914, Training Accuracy= 0.64000\n",
            "Iter 5000, Minibatch Loss= 0.855931, Training Accuracy= 0.72000\n",
            "Iter 6000, Minibatch Loss= 0.941169, Training Accuracy= 0.70000\n",
            "Iter 7000, Minibatch Loss= 0.752999, Training Accuracy= 0.73000\n",
            "Iter 8000, Minibatch Loss= 0.764583, Training Accuracy= 0.72000\n",
            "Iter 9000, Minibatch Loss= 0.819373, Training Accuracy= 0.76000\n",
            "Iter 10000, Minibatch Loss= 0.411289, Training Accuracy= 0.89000\n",
            "Iter 11000, Minibatch Loss= 0.549124, Training Accuracy= 0.80000\n",
            "Iter 12000, Minibatch Loss= 0.603629, Training Accuracy= 0.80000\n",
            "Iter 13000, Minibatch Loss= 0.559376, Training Accuracy= 0.84000\n",
            "Iter 14000, Minibatch Loss= 0.313733, Training Accuracy= 0.88000\n",
            "Iter 15000, Minibatch Loss= 0.398822, Training Accuracy= 0.85000\n",
            "Iter 16000, Minibatch Loss= 0.365508, Training Accuracy= 0.85000\n",
            "Iter 17000, Minibatch Loss= 0.214532, Training Accuracy= 0.91000\n",
            "Iter 18000, Minibatch Loss= 0.248962, Training Accuracy= 0.93000\n",
            "Iter 19000, Minibatch Loss= 0.385238, Training Accuracy= 0.88000\n",
            "Iter 20000, Minibatch Loss= 0.374081, Training Accuracy= 0.89000\n",
            "Iter 21000, Minibatch Loss= 0.244634, Training Accuracy= 0.92000\n",
            "Iter 22000, Minibatch Loss= 0.180574, Training Accuracy= 0.93000\n",
            "Iter 23000, Minibatch Loss= 0.299345, Training Accuracy= 0.91000\n",
            "Iter 24000, Minibatch Loss= 0.286426, Training Accuracy= 0.90000\n",
            "Iter 25000, Minibatch Loss= 0.275467, Training Accuracy= 0.92000\n",
            "Iter 26000, Minibatch Loss= 0.403708, Training Accuracy= 0.86000\n",
            "Iter 27000, Minibatch Loss= 0.304796, Training Accuracy= 0.90000\n",
            "Iter 28000, Minibatch Loss= 0.231079, Training Accuracy= 0.90000\n",
            "Iter 29000, Minibatch Loss= 0.198155, Training Accuracy= 0.92000\n",
            "Iter 30000, Minibatch Loss= 0.303373, Training Accuracy= 0.90000\n",
            "Iter 31000, Minibatch Loss= 0.169461, Training Accuracy= 0.93000\n",
            "Iter 32000, Minibatch Loss= 0.273542, Training Accuracy= 0.89000\n",
            "Iter 33000, Minibatch Loss= 0.177686, Training Accuracy= 0.93000\n",
            "Iter 34000, Minibatch Loss= 0.199304, Training Accuracy= 0.96000\n",
            "Iter 35000, Minibatch Loss= 0.258660, Training Accuracy= 0.91000\n",
            "Iter 36000, Minibatch Loss= 0.129266, Training Accuracy= 0.95000\n",
            "Iter 37000, Minibatch Loss= 0.167372, Training Accuracy= 0.94000\n",
            "Iter 38000, Minibatch Loss= 0.278886, Training Accuracy= 0.94000\n",
            "Iter 39000, Minibatch Loss= 0.104010, Training Accuracy= 0.95000\n",
            "Iter 40000, Minibatch Loss= 0.141371, Training Accuracy= 0.95000\n",
            "Iter 41000, Minibatch Loss= 0.177962, Training Accuracy= 0.93000\n",
            "Iter 42000, Minibatch Loss= 0.139886, Training Accuracy= 0.95000\n",
            "Iter 43000, Minibatch Loss= 0.140180, Training Accuracy= 0.94000\n",
            "Iter 44000, Minibatch Loss= 0.044244, Training Accuracy= 0.99000\n",
            "Iter 45000, Minibatch Loss= 0.110939, Training Accuracy= 0.96000\n",
            "Iter 46000, Minibatch Loss= 0.179280, Training Accuracy= 0.93000\n",
            "Iter 47000, Minibatch Loss= 0.160263, Training Accuracy= 0.96000\n",
            "Iter 48000, Minibatch Loss= 0.120229, Training Accuracy= 0.98000\n",
            "Iter 49000, Minibatch Loss= 0.095987, Training Accuracy= 0.96000\n",
            "Iter 50000, Minibatch Loss= 0.150220, Training Accuracy= 0.95000\n",
            "Iter 51000, Minibatch Loss= 0.195197, Training Accuracy= 0.95000\n",
            "Iter 52000, Minibatch Loss= 0.117356, Training Accuracy= 0.96000\n",
            "Iter 53000, Minibatch Loss= 0.109602, Training Accuracy= 0.96000\n",
            "Iter 54000, Minibatch Loss= 0.072287, Training Accuracy= 0.98000\n",
            "Iter 55000, Minibatch Loss= 0.151861, Training Accuracy= 0.95000\n",
            "Iter 56000, Minibatch Loss= 0.106493, Training Accuracy= 0.97000\n",
            "Iter 57000, Minibatch Loss= 0.071229, Training Accuracy= 0.98000\n",
            "Iter 58000, Minibatch Loss= 0.148464, Training Accuracy= 0.94000\n",
            "Iter 59000, Minibatch Loss= 0.085362, Training Accuracy= 0.98000\n",
            "Iter 60000, Minibatch Loss= 0.168724, Training Accuracy= 0.95000\n",
            "Iter 61000, Minibatch Loss= 0.128292, Training Accuracy= 0.94000\n",
            "Iter 62000, Minibatch Loss= 0.110523, Training Accuracy= 0.97000\n",
            "Iter 63000, Minibatch Loss= 0.223269, Training Accuracy= 0.94000\n",
            "Iter 64000, Minibatch Loss= 0.158700, Training Accuracy= 0.97000\n",
            "Iter 65000, Minibatch Loss= 0.111343, Training Accuracy= 0.96000\n",
            "Iter 66000, Minibatch Loss= 0.148926, Training Accuracy= 0.95000\n",
            "Iter 67000, Minibatch Loss= 0.128953, Training Accuracy= 0.97000\n",
            "Iter 68000, Minibatch Loss= 0.183715, Training Accuracy= 0.94000\n",
            "Iter 69000, Minibatch Loss= 0.122928, Training Accuracy= 0.94000\n",
            "Iter 70000, Minibatch Loss= 0.116988, Training Accuracy= 0.97000\n",
            "Iter 71000, Minibatch Loss= 0.062795, Training Accuracy= 0.98000\n",
            "Iter 72000, Minibatch Loss= 0.116524, Training Accuracy= 0.95000\n",
            "Iter 73000, Minibatch Loss= 0.167375, Training Accuracy= 0.97000\n",
            "Iter 74000, Minibatch Loss= 0.109047, Training Accuracy= 0.94000\n",
            "Iter 75000, Minibatch Loss= 0.150803, Training Accuracy= 0.94000\n",
            "Iter 76000, Minibatch Loss= 0.049451, Training Accuracy= 0.99000\n",
            "Iter 77000, Minibatch Loss= 0.046941, Training Accuracy= 0.99000\n",
            "Iter 78000, Minibatch Loss= 0.105896, Training Accuracy= 0.96000\n",
            "Iter 79000, Minibatch Loss= 0.147148, Training Accuracy= 0.94000\n",
            "Iter 80000, Minibatch Loss= 0.258190, Training Accuracy= 0.93000\n",
            "Iter 81000, Minibatch Loss= 0.062375, Training Accuracy= 0.98000\n",
            "Iter 82000, Minibatch Loss= 0.115639, Training Accuracy= 0.96000\n",
            "Iter 83000, Minibatch Loss= 0.062109, Training Accuracy= 0.98000\n",
            "Iter 84000, Minibatch Loss= 0.106746, Training Accuracy= 0.96000\n",
            "Iter 85000, Minibatch Loss= 0.115972, Training Accuracy= 0.96000\n",
            "Iter 86000, Minibatch Loss= 0.092330, Training Accuracy= 0.98000\n",
            "Iter 87000, Minibatch Loss= 0.104605, Training Accuracy= 0.95000\n",
            "Iter 88000, Minibatch Loss= 0.084498, Training Accuracy= 0.97000\n",
            "Iter 89000, Minibatch Loss= 0.035485, Training Accuracy= 0.99000\n",
            "Iter 90000, Minibatch Loss= 0.040146, Training Accuracy= 0.98000\n",
            "Iter 91000, Minibatch Loss= 0.049033, Training Accuracy= 1.00000\n",
            "Iter 92000, Minibatch Loss= 0.072377, Training Accuracy= 0.98000\n",
            "Iter 93000, Minibatch Loss= 0.110188, Training Accuracy= 0.97000\n",
            "Iter 94000, Minibatch Loss= 0.062089, Training Accuracy= 0.99000\n",
            "Iter 95000, Minibatch Loss= 0.046981, Training Accuracy= 0.99000\n",
            "Iter 96000, Minibatch Loss= 0.106861, Training Accuracy= 0.95000\n",
            "Iter 97000, Minibatch Loss= 0.092621, Training Accuracy= 0.99000\n",
            "Iter 98000, Minibatch Loss= 0.057925, Training Accuracy= 0.98000\n",
            "Iter 99000, Minibatch Loss= 0.041980, Training Accuracy= 0.98000\n",
            "Optimization Finished!\n",
            "('Testing Accuracy:', 0.9765625)\n"
          ],
          "name": "stdout"
        }
      ]
    },
    {
      "metadata": {
        "id": "B1nYvKKxpmOF",
        "colab_type": "code",
        "colab": {}
      },
      "cell_type": "code",
      "source": [
        ""
      ],
      "execution_count": 0,
      "outputs": []
    }
  ]
}